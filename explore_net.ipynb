{
 "cells": [
  {
   "cell_type": "markdown",
   "metadata": {},
   "source": [
    "This is a notebook to explore the trained ANN saved by `create_and_train.py`"
   ]
  },
  {
   "cell_type": "code",
   "execution_count": 3,
   "metadata": {
    "collapsed": false
   },
   "outputs": [],
   "source": [
    "try:\n",
    "    import cPickle as pickle\n",
    "except:\n",
    "    import pickle\n",
    "\n",
    "import numpy as np\n",
    "import pandas as pd\n",
    "import matplotlib\n",
    "# this was required on one of my machines while running in a conda environment\n",
    "# matplotlib.use('TkAgg')\n",
    "import matplotlib.pyplot as plt\n",
    "\n",
    "import lasagne\n",
    "# from lasagne import layers\n",
    "# from lasagne import nonlinearities\n",
    "# from nolearn.lasagne import NeuralNet\n",
    "\n",
    "from sklearn import preprocessing\n",
    "\n",
    "%matplotlib inline"
   ]
  },
  {
   "cell_type": "code",
   "execution_count": null,
   "metadata": {
    "collapsed": true
   },
   "outputs": [],
   "source": [
    "# load the trained network and related objects\n",
    "net_objs = pickle.load('ann_objects.pkl')\n",
    "net = net_objs[0]\n",
    "x_scaler = net_objs[1]\n",
    "y_scaler = net_objs[2]\n",
    "x_train = net_objs[3]\n",
    "y_train = net_objs[4]\n",
    "x_test = net_objs[5]\n",
    "y_test = net_objs[6]"
   ]
  },
  {
   "cell_type": "code",
   "execution_count": null,
   "metadata": {
    "collapsed": true
   },
   "outputs": [],
   "source": [
    "print(net.score(x_train, y_train))\n",
    "\n",
    "# Plot the learning curves\n",
    "# helpful in determining whether to continue training or not.\n",
    "# if both loss functions still are still decreasing: more training will pay off.\n",
    "# If the train loss is much lower than the validation loss, should regularize. \n",
    "train_loss = np.array([i[\"train_loss\"] for i in net.train_history_])\n",
    "valid_loss = np.array([i[\"valid_loss\"] for i in net.train_history_])\n",
    "\n",
    "plt.figure(1)\n",
    "plt.plot(train_loss, label='train')\n",
    "plt.plot(valid_loss, label='validation')\n",
    "plt.legend(loc=0)\n",
    "plt.xlabel('Epoch')\n",
    "plt.ylabel('Loss (MSE)')\n",
    "plt.yscale('log')\n",
    "plt.title('Learning Curves')\n",
    "\n",
    "# Parity plot of the training data\n",
    "plt.figure(2)\n",
    "y_predictions = net.predict(x_train)\n",
    "plt.scatter(y_predictions[:2000,:].flatten(), y_train[:2000,:].flatten(),\n",
    "            s=0.1)\n",
    "plt.plot([np.min(y_train),np.max(y_train)],[np.min(y_train),np.max(y_train)])\n",
    "plt.xlabel('Predicted Value')\n",
    "plt.ylabel('Actual Value')\n",
    "plt.title('Training Set Data')\n",
    "\n",
    "# Parity plot of the test data\n",
    "plt.figure(3)\n",
    "y_predictions_test = net.predict(x_test)\n",
    "plt.scatter(y_predictions_test[:2000,:].flatten(), y_test[:2000,:].flatten(),\n",
    "           s=0.2)\n",
    "plt.plot([np.min(y_test),np.max(y_test)],[np.min(y_test),np.max(y_test)])\n",
    "plt.xlabel('Predicted Value')\n",
    "plt.ylabel('Actual Value')\n",
    "plt.title('Test Set Data')\n"
   ]
  }
 ],
 "metadata": {
  "kernelspec": {
   "display_name": "Python 2",
   "language": "python",
   "name": "python2"
  },
  "language_info": {
   "codemirror_mode": {
    "name": "ipython",
    "version": 2
   },
   "file_extension": ".py",
   "mimetype": "text/x-python",
   "name": "python",
   "nbconvert_exporter": "python",
   "pygments_lexer": "ipython2",
   "version": "2.7.11"
  }
 },
 "nbformat": 4,
 "nbformat_minor": 0
}
