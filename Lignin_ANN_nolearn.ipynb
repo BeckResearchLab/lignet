{
 "cells": [
  {
   "cell_type": "code",
   "execution_count": 10,
   "metadata": {
    "collapsed": false
   },
   "outputs": [],
   "source": [
    "# use the nolearn environment (source activate nolearn) to run this notebook\n",
    "# Documentation: https://github.com/dnouri/nolearn/\n",
    "\n",
    "import numpy as np\n",
    "import pandas as pd\n",
    "import matplotlib.pyplot as plt\n",
    "from lasagne.layers import DenseLayer\n",
    "from lasagne.layers import InputLayer\n",
    "from nolearn.lasagne import NeuralNet\n",
    "from sklearn.datasets import make_regression\n",
    "\n",
    "%matplotlib inline"
   ]
  },
  {
   "cell_type": "markdown",
   "metadata": {},
   "source": [
    "#### Eventually, make this into a function that reads the data, cleans it appropriately, shuffles and normalizes it, and splits it into training/test sets"
   ]
  },
  {
   "cell_type": "code",
   "execution_count": 6,
   "metadata": {
    "collapsed": true
   },
   "outputs": [],
   "source": [
    "# Read the training data for the neural network\n",
    "# Input data is 250000x4 and output data is 250000x32\n",
    "x = pd.read_csv('../parameters_250000.txt', sep=' ')\n",
    "y = pd.read_csv('../results.txt', sep=' ', index_col=False)\n",
    "# These functional groups do not exist in my model\n",
    "y = y.drop(['light_aromatic_C-C', 'light_aromatic_methoxyl'], axis=1)"
   ]
  },
  {
   "cell_type": "code",
   "execution_count": 15,
   "metadata": {
    "collapsed": true
   },
   "outputs": [],
   "source": [
    "x = x.values.astype(np.float32)\n",
    "y = y.values.astype(np.float32)"
   ]
  },
  {
   "cell_type": "markdown",
   "metadata": {},
   "source": [
    "I am going to follow the regression example in this tutorial to start figuring out nolearn:\n",
    "\n",
    "http://danielnouri.org/notes/2014/12/17/using-convolutional-neural-nets-to-detect-facial-keypoints-tutorial/\n",
    "\n",
    "For regression problems, I want the activation function for the output layer to be a rectified linear unit."
   ]
  },
  {
   "cell_type": "code",
   "execution_count": 16,
   "metadata": {
    "collapsed": false
   },
   "outputs": [
    {
     "name": "stdout",
     "output_type": "stream",
     "text": [
      "(250000, 4) (250000, 30)\n"
     ]
    }
   ],
   "source": [
    "print x.shape, y.shape"
   ]
  },
  {
   "cell_type": "code",
   "execution_count": 17,
   "metadata": {
    "collapsed": true
   },
   "outputs": [],
   "source": [
    "# net = NeuralNet(\n",
    "#     layers=[\n",
    "#         ('input', lasagne.layers.InputLayer),\n",
    "#         ('hidden', lasagne.layers.DenseLayer),\n",
    "#         ('output', lasagne.layers.DenseLayer),\n",
    "#         ]), \n",
    "#     # layer parameters\n",
    "#     input_shape=()"
   ]
  },
  {
   "cell_type": "code",
   "execution_count": 21,
   "metadata": {
    "collapsed": false
   },
   "outputs": [
    {
     "name": "stdout",
     "output_type": "stream",
     "text": [
      "# Neural Network with 1780 learnable parameters\n",
      "\n",
      "## Layer information\n",
      "\n",
      "  #    name    size\n",
      "---  ------  ------\n",
      "  0               4\n",
      "                 50\n",
      "                 30\n",
      "\n",
      "  epoch    train loss    valid loss    train/val  dur\n",
      "-------  ------------  ------------  -----------  -----\n",
      "      1       \u001b[36m0.00624\u001b[0m       \u001b[32m0.00501\u001b[0m      1.24637  0.61s\n",
      "      2       \u001b[36m0.00501\u001b[0m       \u001b[32m0.00497\u001b[0m      1.00627  0.57s\n",
      "      3       \u001b[36m0.00497\u001b[0m       \u001b[32m0.00494\u001b[0m      1.00484  0.60s\n",
      "      4       \u001b[36m0.00496\u001b[0m       0.00495      1.00271  0.58s\n",
      "      5       \u001b[36m0.00496\u001b[0m       0.00495      1.00289  0.59s\n",
      "      6       0.00496       0.00494      1.00300  0.59s\n",
      "      7       \u001b[36m0.00496\u001b[0m       \u001b[32m0.00494\u001b[0m      1.00318  0.58s\n",
      "      8       0.00496       0.00495      1.00229  0.57s\n",
      "      9       \u001b[36m0.00496\u001b[0m       \u001b[32m0.00494\u001b[0m      1.00341  0.59s\n",
      "     10       \u001b[36m0.00495\u001b[0m       0.00494      1.00290  0.58s\n",
      "     11       \u001b[36m0.00495\u001b[0m       0.00494      1.00260  0.58s\n",
      "     12       \u001b[36m0.00495\u001b[0m       \u001b[32m0.00494\u001b[0m      1.00318  0.59s\n",
      "     13       \u001b[36m0.00495\u001b[0m       0.00494      1.00268  0.59s\n",
      "     14       \u001b[36m0.00495\u001b[0m       \u001b[32m0.00494\u001b[0m      1.00316  0.57s\n",
      "     15       0.00495       0.00494      1.00270  0.57s\n",
      "     16       \u001b[36m0.00495\u001b[0m       \u001b[32m0.00493\u001b[0m      1.00319  0.58s\n",
      "     17       \u001b[36m0.00495\u001b[0m       \u001b[32m0.00493\u001b[0m      1.00302  0.57s\n",
      "     18       0.00495       0.00494      1.00228  0.58s\n",
      "     19       0.00495       \u001b[32m0.00493\u001b[0m      1.00315  0.63s\n",
      "     20       0.00495       0.00493      1.00309  0.62s\n",
      "     21       \u001b[36m0.00495\u001b[0m       0.00494      1.00275  0.58s\n",
      "     22       0.00495       0.00493      1.00317  0.59s\n",
      "     23       0.00495       0.00494      1.00267  0.59s\n",
      "     24       0.00495       0.00494      1.00293  0.58s\n",
      "     25       0.00495       0.00493      1.00300  0.63s\n",
      "     26       0.00495       0.00493      1.00303  0.58s\n",
      "     27       \u001b[36m0.00495\u001b[0m       0.00493      1.00287  0.57s\n",
      "     28       0.00495       \u001b[32m0.00493\u001b[0m      1.00320  0.59s\n",
      "     29       0.00495       0.00493      1.00295  0.60s\n",
      "     30       0.00495       0.00493      1.00311  0.57s\n",
      "     31       0.00495       0.00493      1.00305  0.59s\n",
      "     32       0.00495       0.00493      1.00295  0.59s\n",
      "     33       \u001b[36m0.00495\u001b[0m       0.00494      1.00269  0.58s\n",
      "     34       0.00495       0.00494      1.00257  0.58s\n",
      "     35       0.00495       0.00494      1.00293  0.60s\n",
      "     36       0.00495       0.00494      1.00244  0.60s\n",
      "     37       0.00495       0.00494      1.00268  0.60s\n",
      "     38       \u001b[36m0.00495\u001b[0m       0.00494      1.00251  0.58s\n",
      "     39       0.00495       \u001b[32m0.00493\u001b[0m      1.00304  0.58s\n",
      "     40       0.00495       0.00494      1.00297  0.59s\n",
      "     41       0.00495       \u001b[32m0.00493\u001b[0m      1.00332  0.58s\n",
      "     42       \u001b[36m0.00495\u001b[0m       0.00493      1.00297  0.60s\n",
      "     43       \u001b[36m0.00495\u001b[0m       0.00493      1.00294  0.62s\n",
      "     44       0.00495       0.00493      1.00300  0.62s\n",
      "     45       0.00495       0.00493      1.00305  0.60s\n",
      "     46       0.00495       0.00494      1.00252  0.57s\n",
      "     47       0.00495       0.00493      1.00294  0.58s\n",
      "     48       0.00495       0.00493      1.00266  0.62s\n",
      "     49       0.00495       0.00493      1.00266  0.61s\n",
      "     50       0.00495       0.00493      1.00285  0.58s\n",
      "     51       0.00495       \u001b[32m0.00493\u001b[0m      1.00299  0.58s\n",
      "     52       \u001b[36m0.00495\u001b[0m       0.00493      1.00283  0.57s\n",
      "     53       0.00495       \u001b[32m0.00493\u001b[0m      1.00315  0.57s\n",
      "     54       \u001b[36m0.00495\u001b[0m       \u001b[32m0.00493\u001b[0m      1.00322  0.58s\n",
      "     55       \u001b[36m0.00495\u001b[0m       0.00493      1.00317  0.58s\n",
      "     56       0.00495       0.00493      1.00308  0.57s\n",
      "     57       0.00495       0.00493      1.00321  0.58s\n",
      "     58       \u001b[36m0.00495\u001b[0m       0.00493      1.00261  0.58s\n",
      "     59       0.00495       0.00493      1.00301  0.57s\n",
      "     60       0.00495       0.00493      1.00313  0.59s\n",
      "     61       0.00495       0.00493      1.00303  0.59s\n",
      "     62       0.00495       0.00493      1.00291  0.60s\n",
      "     63       0.00495       0.00493      1.00306  0.58s\n",
      "     64       0.00495       0.00493      1.00318  0.59s\n",
      "     65       0.00495       0.00493      1.00308  0.62s\n",
      "     66       0.00495       0.00493      1.00277  0.61s\n",
      "     67       0.00495       0.00494      1.00212  0.59s\n",
      "     68       \u001b[36m0.00495\u001b[0m       0.00494      1.00172  0.61s\n",
      "     69       \u001b[36m0.00495\u001b[0m       0.00493      1.00273  0.60s\n",
      "     70       0.00495       0.00493      1.00297  0.59s\n",
      "     71       0.00495       0.00494      1.00137  0.62s\n",
      "     72       \u001b[36m0.00495\u001b[0m       0.00493      1.00236  0.61s\n",
      "     73       0.00495       \u001b[32m0.00493\u001b[0m      1.00309  0.62s\n",
      "     74       \u001b[36m0.00494\u001b[0m       0.00493      1.00298  0.61s\n",
      "     75       0.00494       0.00493      1.00280  0.61s\n",
      "     76       0.00494       0.00493      1.00303  0.59s\n",
      "     77       0.00495       0.00493      1.00305  0.60s\n",
      "     78       0.00494       0.00493      1.00294  0.58s\n",
      "     79       \u001b[36m0.00494\u001b[0m       0.00493      1.00287  0.58s\n",
      "     80       0.00494       0.00493      1.00276  0.57s\n",
      "     81       0.00495       0.00493      1.00304  0.61s\n",
      "     82       \u001b[36m0.00494\u001b[0m       0.00493      1.00281  0.59s\n",
      "     83       0.00494       0.00493      1.00272  0.57s\n",
      "     84       0.00494       0.00493      1.00273  0.57s\n",
      "     85       \u001b[36m0.00494\u001b[0m       0.00493      1.00289  0.59s\n",
      "     86       \u001b[36m0.00494\u001b[0m       \u001b[32m0.00493\u001b[0m      1.00285  0.59s\n",
      "     87       0.00494       0.00493      1.00277  0.58s\n",
      "     88       0.00494       0.00493      1.00278  0.59s\n",
      "     89       0.00495       \u001b[32m0.00493\u001b[0m      1.00395  0.61s\n",
      "     90       \u001b[36m0.00494\u001b[0m       \u001b[32m0.00492\u001b[0m      1.00377  0.60s\n",
      "     91       \u001b[36m0.00494\u001b[0m       0.00493      1.00310  0.59s\n",
      "     92       \u001b[36m0.00494\u001b[0m       \u001b[32m0.00492\u001b[0m      1.00370  0.59s\n",
      "     93       0.00494       0.00493      1.00308  0.60s\n",
      "     94       0.00494       0.00494      1.00112  0.59s\n",
      "     95       0.00495       0.00494      1.00318  0.59s\n",
      "     96       0.00495       0.00494      1.00318  0.59s\n",
      "     97       0.00495       0.00494      1.00318  0.59s\n",
      "     98       0.00495       0.00494      1.00318  0.63s\n",
      "     99       0.00495       0.00494      1.00318  0.64s\n",
      "    100       0.00495       0.00494      1.00318  0.59s\n",
      "0.00494108690006\n"
     ]
    }
   ],
   "source": [
    "l = InputLayer(shape=(None, x.shape[1]))\n",
    "l = DenseLayer(l, num_units=50, nonlinearity=lasagne.nonlinearities.sigmoid)\n",
    "l = DenseLayer(l, num_units=y.shape[1],\n",
    "               nonlinearity=lasagne.nonlinearities.linear)\n",
    "net = NeuralNet(l, regression=True, update_learning_rate=0.1, verbose=1)\n",
    "net.fit(x, y)\n",
    "print(net.score(x, y))\n"
   ]
  },
  {
   "cell_type": "code",
   "execution_count": 20,
   "metadata": {
    "collapsed": false
   },
   "outputs": [
    {
     "name": "stdout",
     "output_type": "stream",
     "text": [
      "0.00493332126885\n"
     ]
    }
   ],
   "source": []
  },
  {
   "cell_type": "code",
   "execution_count": 23,
   "metadata": {
    "collapsed": false
   },
   "outputs": [
    {
     "data": {
      "text/plain": [
       "(250000, 30)"
      ]
     },
     "execution_count": 23,
     "metadata": {},
     "output_type": "execute_result"
    }
   ],
   "source": [
    "y_predictions = net.predict(x)\n",
    "y_predictions.shape"
   ]
  },
  {
   "cell_type": "code",
   "execution_count": 29,
   "metadata": {
    "collapsed": false
   },
   "outputs": [
    {
     "data": {
      "text/plain": [
       "<matplotlib.collections.PathCollection at 0x10fffee90>"
      ]
     },
     "execution_count": 29,
     "metadata": {},
     "output_type": "execute_result"
    },
    {
     "data": {
      "image/png": "[encoded data removed]",
      "text/plain": [
       "<matplotlib.figure.Figure at 0x1103b70d0>"
      ]
     },
     "metadata": {},
     "output_type": "display_data"
    }
   ],
   "source": [
    "plt.scatter(y_predictions[:1000,:].flatten(), y[:1000,:].flatten())"
   ]
  },
  {
   "cell_type": "code",
   "execution_count": null,
   "metadata": {
    "collapsed": true
   },
   "outputs": [],
   "source": [
    "np.flatt"
   ]
  }
 ],
 "metadata": {
  "kernelspec": {
   "display_name": "Python 2",
   "language": "python",
   "name": "python2"
  },
  "language_info": {
   "codemirror_mode": {
    "name": "ipython",
    "version": 2
   },
   "file_extension": ".py",
   "mimetype": "text/x-python",
   "name": "python",
   "nbconvert_exporter": "python",
   "pygments_lexer": "ipython2",
   "version": "2.7.11"
  }
 },
 "nbformat": 4,
 "nbformat_minor": 0
}
