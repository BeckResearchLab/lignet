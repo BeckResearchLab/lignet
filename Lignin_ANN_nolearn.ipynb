{
 "cells": [
  {
   "cell_type": "markdown",
   "metadata": {},
   "source": [
    "use the nolearn environment (source activate nolearn) to run this notebook  \n",
    "Nolearn documentation: https://github.com/dnouri/nolearn/"
   ]
  },
  {
   "cell_type": "code",
   "execution_count": 9,
   "metadata": {
    "collapsed": false
   },
   "outputs": [],
   "source": [
    "import numpy as np\n",
    "import pandas as pd\n",
    "import matplotlib.pyplot as plt\n",
    "\n",
    "import lasagne\n",
    "from lasagne import layers\n",
    "from lasagne.layers import DenseLayer\n",
    "from lasagne.layers import InputLayer\n",
    "from lasagne import nonlinearities\n",
    "from nolearn.lasagne import NeuralNet\n",
    "\n",
    "from sklearn import preprocessing\n",
    "# from sklearn.datasets import make_regression\n",
    "\n",
    "\n",
    "%matplotlib inline\n",
    "\n",
    "# specify the seed for random number generation so we can get consistent \n",
    "# shuffling and initialized weights\n",
    "np.random.seed(6509)"
   ]
  },
  {
   "cell_type": "markdown",
   "metadata": {},
   "source": [
    "#### Eventually, make this into a function that reads the data, cleans it appropriately, shuffles and normalizes it, and splits it into training/test sets"
   ]
  },
  {
   "cell_type": "code",
   "execution_count": 2,
   "metadata": {
    "collapsed": false
   },
   "outputs": [
    {
     "name": "stdout",
     "output_type": "stream",
     "text": [
      "(250000, 4) (250000, 30)\n"
     ]
    }
   ],
   "source": [
    "# Read the training data for the neural network\n",
    "# Input data is 250000x4 and output data is 250000x32\n",
    "X = pd.read_csv('../parameters_250000.txt', sep=' ')\n",
    "Y = pd.read_csv('../results.txt', sep=' ', index_col=False)\n",
    "# These functional groups do not exist in my model\n",
    "Y = Y.drop(['light_aromatic_C-C', 'light_aromatic_methoxyl'], axis=1)\n",
    "\n",
    "X = X.values.astype(np.float32)\n",
    "Y = Y.values.astype(np.float32)\n",
    "print X.shape, Y.shape"
   ]
  },
  {
   "cell_type": "markdown",
   "metadata": {},
   "source": [
    "#### Question:\n",
    "Is there any reason not to standardize the entire data set at this stage (so scaling parameters will be based on the entire set - training/validation/test sets.  The other option would be to separate the training set out first, then standardize to that set and convert the others later using those parameters.  Any reason to do the latter?"
   ]
  },
  {
   "cell_type": "code",
   "execution_count": 3,
   "metadata": {
    "collapsed": true
   },
   "outputs": [],
   "source": [
    "# Standardize the input parameters to have zero mean and unit variance\n",
    "# x_scaler.transform() can be used later to transform any new data\n",
    "# x_scaler.inverse_transform() can be used to get the original data back\n",
    "x_scaler = preprocessing.StandardScaler().fit(X)\n",
    "x_stand = x_scaler.transform(X)\n",
    "\n",
    "# Scale the output parameters to lie between 0 and 1\n",
    "y_scaler = preprocessing.MinMaxScaler().fit(Y)\n",
    "y_stand = y_scaler.transform(Y)\n",
    "\n",
    "# Shuffle the dataset (x parameters are varied in a structured way)\n",
    "combined = np.concatenate((x_stand, y_stand), axis=1)\n",
    "np.random.shuffle(combined)"
   ]
  },
  {
   "cell_type": "code",
   "execution_count": 4,
   "metadata": {
    "collapsed": false
   },
   "outputs": [
    {
     "name": "stdout",
     "output_type": "stream",
     "text": [
      "(200000, 34) (50000, 34)\n"
     ]
    }
   ],
   "source": [
    "# Separate the data into training (with included validation) and test sets.\n",
    "# (Validation set is separated from the training set by nolearn)\n",
    "test_fraction = 0.2\n",
    "training = combined[:-int(test_fraction * combined.shape[0]), :]\n",
    "test = combined[-int(test_fraction * combined.shape[0]):, :]\n",
    "print training.shape, test.shape\n",
    "\n",
    "x_train = training[:, :4]\n",
    "y_train = training[:, 4:]\n",
    "x_test = test[:, :4]\n",
    "y_test = test[:, 4:]"
   ]
  },
  {
   "cell_type": "markdown",
   "metadata": {
    "collapsed": true
   },
   "source": [
    "## Notes on choosing architechture, hyperparameters, etc.\n",
    "\n",
    "##### Number of Hidden Layers:\n",
    "Problems that require two hidden layers are rarely encountered, however, NNs with two hidden layers can represent functions with any kind of shape.  There is currently no theoretical reason to use neural networks with any more than two hidden layers.  (from https://web.archive.org/web/20140721050413/http://www.heatonresearch.com/node/707)\n",
    "\n",
    "##### Number of neurons in hidden layers:\n",
    "There are many rule-of-thumb methods for determining the correct number of neurons to use in the hidden layers, such as the following:\n",
    "\n",
    "-  The number of hidden neurons should be between the size of the input layer and the size of the output layer. \n",
    "-  The number of hidden neurons should be 2/3 the size of the input layer, plus the size of the output layer. \n",
    "-  The number of hidden neurons should be less than twice the size of the input layer. \n",
    "-  Additional rule of thumb for determining an upperbound on the number of hidden neurons that won't result in overfitting is: \n",
    "\n",
    "$$ N_h = \\frac{N_s}{alpha*(N_i + N_o)} $$\n",
    "\n",
    "&nbsp;&nbsp;&nbsp;&nbsp; $N_i$ = number of input neurons  \n",
    "&nbsp;&nbsp;&nbsp;&nbsp; $N_o$ = number of output neurons  \n",
    "&nbsp;&nbsp;&nbsp;&nbsp; $N_s$ = number of samples in training data set\n",
    "&nbsp;&nbsp;&nbsp;&nbsp; alpha = arbitrary scaling factor (usually between 2-10)\n",
    "\n",
    "##### Choosing the Learning Rate\n",
    "-  First, estimate a threshold value at which the cost on the traning data immediately begins decreasing (do this by changing learning rate by orders of magnitude until you get a value where the cost increases during the first few epochs)\n",
    "-  This threshold value changes with network architechture and whether the training data is normalized.  Small changes below the threshold value appear to have significant impacts on the results...\n",
    "-  I need to do more digging into nolearn to determine if I can specify a learning rate schedule, or otherwise adjust the learning rate during training  \n",
    "--> turns out you can do this fairly easily: see Daniel Nouri's tutorial linked above.\n",
    "\n",
    "##### Regularization Parameter\n",
    "Am I able to add regularization with nolearn?  If so, first figure out learning rate without regularization, then add it.  Start with lambda = 1.0, then increase or decrease by factors of 10 to improve performance on the validation data.  After finding best lambda, return and re-optimize the learning rate again.\n",
    "https://groups.google.com/forum/#!topic/lasagne-users/B3w6_EU9qlI  \n",
    "https://www.kaggle.com/c/otto-group-product-classification-challenge/forums/t/14139/does-anyone-know-how-to-make-l1-and-l2-regularization-work-for-lasagne  \n",
    "\n",
    "Should I just add dropout instead?  Both dropout and regularization only make sense if we have a network that is overfitting, so right now it doesn't look like I need it until I can make my network overfit...\n",
    "\n",
    "To add L1 or L2 regularization, just add objective_l2=0.0001 to the NeuralNet.  \n",
    "See: https://github.com/dnouri/nolearn/issues/199"
   ]
  },
  {
   "cell_type": "code",
   "execution_count": 5,
   "metadata": {
    "collapsed": true
   },
   "outputs": [],
   "source": [
    "# NeuralNet automatically splits the data provided into a training\n",
    "# and a validation set, using 20% of the samples for validation. \n",
    "# You can adjust this ratio by overriding the eval_size=0.2 parameter.\n",
    "net = NeuralNet(\n",
    "            layers=[\n",
    "                ('input', layers.InputLayer),\n",
    "                ('hidden1', layers.DenseLayer),\n",
    "                ('output', layers.DenseLayer)\n",
    "                ],\n",
    "            input_shape=(None, x_train.shape[1]),\n",
    "            hidden1_num_units=18,\n",
    "            hidden1_nonlinearity=nonlinearities.sigmoid,\n",
    "            output_num_units=y_train.shape[1],\n",
    "            output_nonlinearity=nonlinearities.linear,\n",
    "            regression=True,\n",
    "            update_learning_rate=0.5,\n",
    "            verbose=1,\n",
    "            max_epochs=100,\n",
    "#             update_momentum=0.9,\n",
    "#             update=lasagne.updates.sgd\n",
    "            # use on_epoch_finished to update the learning rate during training\n",
    "            # or use early stopping.\n",
    "            # see https://github.com/dnouri/kfkd-tutorial/blob/master/kfkd.py\n",
    "            )\n",
    "    \n",
    "        "
   ]
  },
  {
   "cell_type": "code",
   "execution_count": 7,
   "metadata": {
    "collapsed": false
   },
   "outputs": [],
   "source": [
    "l = InputLayer(shape=(None, x_train.shape[1]))\n",
    "l = DenseLayer(l, num_units=18, nonlinearity=nonlinearities.sigmoid)\n",
    "l = DenseLayer(l, num_units=y_train.shape[1],\n",
    "               nonlinearity=nonlinearities.linear)\n",
    "# NeuralNet automatically splits the data provided into a training\n",
    "# and a validation set, using 20% of the samples for validation. \n",
    "# You can adjust this ratio by overriding the eval_size=0.2 parameter.\n",
    "net = NeuralNet(l, regression=True, update_learning_rate=0.5, verbose=1,\n",
    "                max_epochs=100)\n",
    "                #, update_momentum=0.9, update=lasagne.updates.sgd)"
   ]
  },
  {
   "cell_type": "code",
   "execution_count": 6,
   "metadata": {
    "collapsed": false
   },
   "outputs": [
    {
     "data": {
      "text/plain": [
       "{'X_tensor_type': None,\n",
       " 'batch_iterator_test': <nolearn.lasagne.base.BatchIterator at 0x10b151650>,\n",
       " 'batch_iterator_train': <nolearn.lasagne.base.BatchIterator at 0x10b1514d0>,\n",
       " 'custom_score': None,\n",
       " 'hidden1_nonlinearity': <function lasagne.nonlinearities.sigmoid>,\n",
       " 'hidden1_num_units': 18,\n",
       " 'input_shape': (None, 4),\n",
       " 'layers': [('input', lasagne.layers.input.InputLayer),\n",
       "  ('hidden1', lasagne.layers.dense.DenseLayer),\n",
       "  ('output', lasagne.layers.dense.DenseLayer)],\n",
       " 'loss': None,\n",
       " 'max_epochs': 100,\n",
       " 'more_params': {},\n",
       " 'objective': <function nolearn.lasagne.base.objective>,\n",
       " 'objective_loss_function': <function lasagne.objectives.squared_error>,\n",
       " 'on_batch_finished': [],\n",
       " 'on_epoch_finished': [<nolearn.lasagne.handlers.PrintLog instance at 0x101c81ea8>],\n",
       " 'on_training_finished': [],\n",
       " 'on_training_started': [<nolearn.lasagne.handlers.PrintLayerInfo instance at 0x101c81ef0>],\n",
       " 'output_nonlinearity': <function lasagne.nonlinearities.linear>,\n",
       " 'output_num_units': 30,\n",
       " 'regression': True,\n",
       " 'train_split': <nolearn.lasagne.base.TrainSplit at 0x10b1516d0>,\n",
       " 'update': <function lasagne.updates.nesterov_momentum>,\n",
       " 'update_learning_rate': 0.5,\n",
       " 'use_label_encoder': False,\n",
       " 'verbose': 1,\n",
       " 'y_tensor_type': TensorType(float64, matrix)}"
      ]
     },
     "execution_count": 6,
     "metadata": {},
     "output_type": "execute_result"
    }
   ],
   "source": [
    "# Use this to get all the hyperparameters that make up the estimator.\n",
    "# Any of these parameters can be optimized with gridsearch\n",
    "net.get_params()"
   ]
  },
  {
   "cell_type": "code",
   "execution_count": 7,
   "metadata": {
    "collapsed": false,
    "scrolled": true
   },
   "outputs": [
    {
     "name": "stdout",
     "output_type": "stream",
     "text": [
      "# Neural Network with 660 learnable parameters\n",
      "\n",
      "## Layer information\n",
      "\n",
      "  #  name       size\n",
      "---  -------  ------\n",
      "  0  input         4\n",
      "  1  hidden1      18\n",
      "  2  output       30\n",
      "\n",
      "  epoch    train loss    valid loss    train/val  dur\n",
      "-------  ------------  ------------  -----------  -----\n",
      "      1       \u001b[36m0.00600\u001b[0m       \u001b[32m0.00366\u001b[0m      1.63723  0.38s\n",
      "      2       \u001b[36m0.00302\u001b[0m       \u001b[32m0.00252\u001b[0m      1.19968  0.40s\n",
      "      3       \u001b[36m0.00228\u001b[0m       \u001b[32m0.00203\u001b[0m      1.12521  0.38s\n",
      "      4       \u001b[36m0.00193\u001b[0m       \u001b[32m0.00180\u001b[0m      1.07373  0.35s\n",
      "      5       \u001b[36m0.00176\u001b[0m       \u001b[32m0.00167\u001b[0m      1.05410  0.35s\n",
      "      6       \u001b[36m0.00166\u001b[0m       \u001b[32m0.00158\u001b[0m      1.04681  0.36s\n",
      "      7       \u001b[36m0.00158\u001b[0m       \u001b[32m0.00151\u001b[0m      1.04143  0.57s\n",
      "      8       \u001b[36m0.00151\u001b[0m       \u001b[32m0.00146\u001b[0m      1.03664  0.41s\n",
      "      9       \u001b[36m0.00147\u001b[0m       \u001b[32m0.00142\u001b[0m      1.03352  0.39s\n",
      "     10       \u001b[36m0.00143\u001b[0m       \u001b[32m0.00138\u001b[0m      1.03235  0.43s\n",
      "     11       \u001b[36m0.00139\u001b[0m       \u001b[32m0.00135\u001b[0m      1.03283  0.37s\n",
      "     12       \u001b[36m0.00136\u001b[0m       \u001b[32m0.00131\u001b[0m      1.03456  0.35s\n",
      "     13       \u001b[36m0.00132\u001b[0m       \u001b[32m0.00127\u001b[0m      1.03685  0.44s\n",
      "     14       \u001b[36m0.00127\u001b[0m       \u001b[32m0.00123\u001b[0m      1.03787  0.47s\n",
      "     15       \u001b[36m0.00123\u001b[0m       \u001b[32m0.00119\u001b[0m      1.03613  0.37s\n",
      "     16       \u001b[36m0.00120\u001b[0m       \u001b[32m0.00116\u001b[0m      1.03325  0.47s\n",
      "     17       \u001b[36m0.00118\u001b[0m       \u001b[32m0.00114\u001b[0m      1.03107  0.53s\n",
      "     18       \u001b[36m0.00116\u001b[0m       \u001b[32m0.00113\u001b[0m      1.02984  0.38s\n",
      "     19       \u001b[36m0.00115\u001b[0m       \u001b[32m0.00112\u001b[0m      1.02921  0.40s\n",
      "     20       \u001b[36m0.00114\u001b[0m       \u001b[32m0.00111\u001b[0m      1.02889  0.50s\n",
      "     21       \u001b[36m0.00114\u001b[0m       \u001b[32m0.00110\u001b[0m      1.02871  0.39s\n",
      "     22       \u001b[36m0.00113\u001b[0m       \u001b[32m0.00110\u001b[0m      1.02862  0.49s\n",
      "     23       \u001b[36m0.00112\u001b[0m       \u001b[32m0.00109\u001b[0m      1.02858  0.48s\n",
      "     24       \u001b[36m0.00111\u001b[0m       \u001b[32m0.00108\u001b[0m      1.02859  0.37s\n",
      "     25       \u001b[36m0.00110\u001b[0m       \u001b[32m0.00107\u001b[0m      1.02867  0.42s\n",
      "     26       \u001b[36m0.00110\u001b[0m       \u001b[32m0.00107\u001b[0m      1.02882  0.36s\n",
      "     27       \u001b[36m0.00109\u001b[0m       \u001b[32m0.00106\u001b[0m      1.02905  0.37s\n",
      "     28       \u001b[36m0.00107\u001b[0m       \u001b[32m0.00104\u001b[0m      1.02929  0.36s\n",
      "     29       \u001b[36m0.00106\u001b[0m       \u001b[32m0.00103\u001b[0m      1.02941  0.36s\n",
      "     30       \u001b[36m0.00105\u001b[0m       \u001b[32m0.00102\u001b[0m      1.02942  0.38s\n",
      "     31       \u001b[36m0.00103\u001b[0m       \u001b[32m0.00100\u001b[0m      1.02938  0.36s\n",
      "     32       \u001b[36m0.00102\u001b[0m       \u001b[32m0.00099\u001b[0m      1.02934  0.36s\n",
      "     33       \u001b[36m0.00101\u001b[0m       \u001b[32m0.00098\u001b[0m      1.02927  0.36s\n",
      "     34       \u001b[36m0.00099\u001b[0m       \u001b[32m0.00096\u001b[0m      1.02918  0.35s\n",
      "     35       \u001b[36m0.00098\u001b[0m       \u001b[32m0.00095\u001b[0m      1.02907  0.40s\n",
      "     36       \u001b[36m0.00097\u001b[0m       \u001b[32m0.00094\u001b[0m      1.02894  0.38s\n",
      "     37       \u001b[36m0.00095\u001b[0m       \u001b[32m0.00093\u001b[0m      1.02877  0.36s\n",
      "     38       \u001b[36m0.00094\u001b[0m       \u001b[32m0.00092\u001b[0m      1.02856  0.36s\n",
      "     39       \u001b[36m0.00093\u001b[0m       \u001b[32m0.00091\u001b[0m      1.02834  0.36s\n",
      "     40       \u001b[36m0.00093\u001b[0m       \u001b[32m0.00090\u001b[0m      1.02813  0.43s\n",
      "     41       \u001b[36m0.00092\u001b[0m       \u001b[32m0.00089\u001b[0m      1.02795  0.46s\n",
      "     42       \u001b[36m0.00091\u001b[0m       \u001b[32m0.00089\u001b[0m      1.02782  0.49s\n",
      "     43       \u001b[36m0.00091\u001b[0m       \u001b[32m0.00088\u001b[0m      1.02774  0.38s\n",
      "     44       \u001b[36m0.00090\u001b[0m       \u001b[32m0.00088\u001b[0m      1.02771  0.40s\n",
      "     45       \u001b[36m0.00090\u001b[0m       \u001b[32m0.00087\u001b[0m      1.02770  0.52s\n",
      "     46       \u001b[36m0.00089\u001b[0m       \u001b[32m0.00087\u001b[0m      1.02771  0.38s\n",
      "     47       \u001b[36m0.00089\u001b[0m       \u001b[32m0.00086\u001b[0m      1.02773  0.50s\n",
      "     48       \u001b[36m0.00089\u001b[0m       \u001b[32m0.00086\u001b[0m      1.02775  0.40s\n",
      "     49       \u001b[36m0.00088\u001b[0m       \u001b[32m0.00086\u001b[0m      1.02777  0.38s\n",
      "     50       \u001b[36m0.00088\u001b[0m       \u001b[32m0.00086\u001b[0m      1.02779  0.44s\n",
      "     51       \u001b[36m0.00088\u001b[0m       \u001b[32m0.00085\u001b[0m      1.02781  0.46s\n",
      "     52       \u001b[36m0.00087\u001b[0m       \u001b[32m0.00085\u001b[0m      1.02782  0.47s\n",
      "     53       \u001b[36m0.00087\u001b[0m       \u001b[32m0.00085\u001b[0m      1.02784  0.46s\n",
      "     54       \u001b[36m0.00087\u001b[0m       \u001b[32m0.00084\u001b[0m      1.02785  0.41s\n",
      "     55       \u001b[36m0.00087\u001b[0m       \u001b[32m0.00084\u001b[0m      1.02786  0.41s\n",
      "     56       \u001b[36m0.00086\u001b[0m       \u001b[32m0.00084\u001b[0m      1.02787  0.38s\n",
      "     57       \u001b[36m0.00086\u001b[0m       \u001b[32m0.00084\u001b[0m      1.02788  0.38s\n",
      "     58       \u001b[36m0.00086\u001b[0m       \u001b[32m0.00084\u001b[0m      1.02789  0.37s\n",
      "     59       \u001b[36m0.00086\u001b[0m       \u001b[32m0.00083\u001b[0m      1.02790  0.35s\n",
      "     60       \u001b[36m0.00086\u001b[0m       \u001b[32m0.00083\u001b[0m      1.02792  0.36s\n",
      "     61       \u001b[36m0.00085\u001b[0m       \u001b[32m0.00083\u001b[0m      1.02794  0.41s\n",
      "     62       \u001b[36m0.00085\u001b[0m       \u001b[32m0.00083\u001b[0m      1.02797  0.47s\n",
      "     63       \u001b[36m0.00085\u001b[0m       \u001b[32m0.00083\u001b[0m      1.02800  0.47s\n",
      "     64       \u001b[36m0.00085\u001b[0m       \u001b[32m0.00082\u001b[0m      1.02803  0.43s\n",
      "     65       \u001b[36m0.00085\u001b[0m       \u001b[32m0.00082\u001b[0m      1.02808  0.40s\n",
      "     66       \u001b[36m0.00084\u001b[0m       \u001b[32m0.00082\u001b[0m      1.02812  0.38s\n",
      "     67       \u001b[36m0.00084\u001b[0m       \u001b[32m0.00082\u001b[0m      1.02818  0.37s\n",
      "     68       \u001b[36m0.00084\u001b[0m       \u001b[32m0.00082\u001b[0m      1.02823  0.35s\n",
      "     69       \u001b[36m0.00084\u001b[0m       \u001b[32m0.00082\u001b[0m      1.02830  0.36s\n",
      "     70       \u001b[36m0.00084\u001b[0m       \u001b[32m0.00081\u001b[0m      1.02837  0.36s\n",
      "     71       \u001b[36m0.00084\u001b[0m       \u001b[32m0.00081\u001b[0m      1.02845  0.35s\n",
      "     72       \u001b[36m0.00083\u001b[0m       \u001b[32m0.00081\u001b[0m      1.02854  0.34s\n",
      "     73       \u001b[36m0.00083\u001b[0m       \u001b[32m0.00081\u001b[0m      1.02863  0.36s\n",
      "     74       \u001b[36m0.00083\u001b[0m       \u001b[32m0.00081\u001b[0m      1.02873  0.36s\n",
      "     75       \u001b[36m0.00083\u001b[0m       \u001b[32m0.00081\u001b[0m      1.02884  0.39s\n",
      "     76       \u001b[36m0.00083\u001b[0m       \u001b[32m0.00081\u001b[0m      1.02896  0.40s\n",
      "     77       \u001b[36m0.00083\u001b[0m       \u001b[32m0.00080\u001b[0m      1.02909  0.42s\n",
      "     78       \u001b[36m0.00083\u001b[0m       \u001b[32m0.00080\u001b[0m      1.02922  0.40s\n",
      "     79       \u001b[36m0.00082\u001b[0m       \u001b[32m0.00080\u001b[0m      1.02937  0.40s\n",
      "     80       \u001b[36m0.00082\u001b[0m       \u001b[32m0.00080\u001b[0m      1.02952  0.38s\n",
      "     81       \u001b[36m0.00082\u001b[0m       \u001b[32m0.00080\u001b[0m      1.02968  0.37s\n",
      "     82       \u001b[36m0.00082\u001b[0m       \u001b[32m0.00079\u001b[0m      1.02985  0.36s\n",
      "     83       \u001b[36m0.00082\u001b[0m       \u001b[32m0.00079\u001b[0m      1.03003  0.36s\n",
      "     84       \u001b[36m0.00081\u001b[0m       \u001b[32m0.00079\u001b[0m      1.03021  0.35s\n",
      "     85       \u001b[36m0.00081\u001b[0m       \u001b[32m0.00079\u001b[0m      1.03040  0.36s\n",
      "     86       \u001b[36m0.00081\u001b[0m       \u001b[32m0.00079\u001b[0m      1.03059  0.36s\n",
      "     87       \u001b[36m0.00081\u001b[0m       \u001b[32m0.00078\u001b[0m      1.03078  0.35s\n",
      "     88       \u001b[36m0.00081\u001b[0m       \u001b[32m0.00078\u001b[0m      1.03098  0.36s\n",
      "     89       \u001b[36m0.00081\u001b[0m       \u001b[32m0.00078\u001b[0m      1.03117  0.35s\n",
      "     90       \u001b[36m0.00080\u001b[0m       \u001b[32m0.00078\u001b[0m      1.03136  0.35s\n",
      "     91       \u001b[36m0.00080\u001b[0m       \u001b[32m0.00078\u001b[0m      1.03156  0.36s\n",
      "     92       \u001b[36m0.00080\u001b[0m       \u001b[32m0.00078\u001b[0m      1.03175  0.36s\n",
      "     93       \u001b[36m0.00080\u001b[0m       \u001b[32m0.00077\u001b[0m      1.03195  0.35s\n",
      "     94       \u001b[36m0.00080\u001b[0m       \u001b[32m0.00077\u001b[0m      1.03214  0.36s\n",
      "     95       \u001b[36m0.00079\u001b[0m       \u001b[32m0.00077\u001b[0m      1.03234  0.36s\n",
      "     96       \u001b[36m0.00079\u001b[0m       \u001b[32m0.00077\u001b[0m      1.03255  0.36s\n",
      "     97       \u001b[36m0.00079\u001b[0m       \u001b[32m0.00077\u001b[0m      1.03275  0.36s\n",
      "     98       \u001b[36m0.00079\u001b[0m       \u001b[32m0.00076\u001b[0m      1.03297  0.36s\n",
      "     99       \u001b[36m0.00079\u001b[0m       \u001b[32m0.00076\u001b[0m      1.03318  0.36s\n",
      "    100       \u001b[36m0.00079\u001b[0m       \u001b[32m0.00076\u001b[0m      1.03340  0.36s\n",
      "0.000780049062656\n"
     ]
    }
   ],
   "source": [
    "net.fit(x_train[:,:], y_train[:,:])\n",
    "print(net.score(x_train, y_train))\n",
    "\n",
    "# The table that is printed shows the current loss (MSE) on the training and\n",
    "# validation sets."
   ]
  },
  {
   "cell_type": "code",
   "execution_count": 23,
   "metadata": {
    "collapsed": false
   },
   "outputs": [],
   "source": [
    "# brute force this process and save all the outputs\n",
    "\n",
    "# use nolearn.gridsearch to find best hyperparameters\n",
    "\n",
    "# from sklearn.learning_curve import validation_curve\n",
    "# train_scores, valid_scores = validation_curve(net, x_train, y_train,\n",
    "#                                               'update_learning_rate', [0.5, 1],\n",
    "#                                               verbose=1)"
   ]
  },
  {
   "cell_type": "code",
   "execution_count": 10,
   "metadata": {
    "collapsed": false
   },
   "outputs": [
    {
     "data": {
      "text/plain": [
       "<matplotlib.text.Text at 0x110f804d0>"
      ]
     },
     "execution_count": 10,
     "metadata": {},
     "output_type": "execute_result"
    },
    {
     "data": {
      "image/png": "[encoded data removed]",
      "text/plain": [
       "<matplotlib.figure.Figure at 0x110e4f590>"
      ]
     },
     "metadata": {},
     "output_type": "display_data"
    },
    {
     "data": {
      "image/png": "[encoded data removed]",
      "text/plain": [
       "<matplotlib.figure.Figure at 0x110efc850>"
      ]
     },
     "metadata": {},
     "output_type": "display_data"
    },
    {
     "data": {
      "image/png": "[encoded data removed]",
      "text/plain": [
       "<matplotlib.figure.Figure at 0x111c1ce10>"
      ]
     },
     "metadata": {},
     "output_type": "display_data"
    }
   ],
   "source": [
    "# Plot the learning curves\n",
    "train_loss = np.array([i[\"train_loss\"] for i in net.train_history_])\n",
    "valid_loss = np.array([i[\"valid_loss\"] for i in net.train_history_])\n",
    "\n",
    "plt.figure(1)\n",
    "plt.plot(train_loss, label='train')\n",
    "plt.plot(valid_loss, label='validation')\n",
    "plt.legend(loc=0)\n",
    "plt.xlabel('Epoch')\n",
    "plt.ylabel('Loss (MSE)')\n",
    "plt.yscale('log')\n",
    "plt.title('Learning Curves')\n",
    "\n",
    "# Parity plot of the training data\n",
    "plt.figure(2)\n",
    "y_predictions = net.predict(x_train)\n",
    "plt.scatter(y_predictions[:1000,:].flatten(), y_train[:1000,:].flatten())\n",
    "plt.plot([np.min(y_train),np.max(y_train)],[np.min(y_train),np.max(y_train)])\n",
    "plt.xlabel('Predicted Value')\n",
    "plt.ylabel('Actual Value')\n",
    "plt.title('Training Set Data')\n",
    "\n",
    "# Parity plot of the test data\n",
    "plt.figure(3)\n",
    "y_predictions_test = net.predict(x_test)\n",
    "plt.scatter(y_predictions_test[:1000,:].flatten(), y_test[:1000,:].flatten())\n",
    "plt.plot([np.min(y_test),np.max(y_test)],[np.min(y_test),np.max(y_test)])\n",
    "plt.xlabel('Predicted Value')\n",
    "plt.ylabel('Actual Value')\n",
    "plt.title('Test Set Data')\n"
   ]
  },
  {
   "cell_type": "code",
   "execution_count": null,
   "metadata": {
    "collapsed": true
   },
   "outputs": [],
   "source": [
    "# can use net.get_all_params_values() to get all the network params (including \n",
    "# weights)."
   ]
  },
  {
   "cell_type": "markdown",
   "metadata": {
    "collapsed": true
   },
   "source": [
    "#### Next steps:\n",
    "\n",
    "- Separate a test set from the training data (x and y above)\n",
    "- How can I get my network to overfit?\n",
    "- What objective function is being used by nolearn?  Default is nesterov momentum\n",
    "- Default loss function for regression is MSE\n",
    "- What is the exact structure of the network - are bias units added?\n",
    "- How are weights initialized?\n",
    "- Why are my training and validation errors so close - validation should start increasing eventually.  Can I make it do this if I train on a smaller dataset?\n",
    "- Optimize\n",
    "- pickle the trained model when it is done\n",
    "- consider scaling the y values so they are all between 0-1\n",
    "- benchmark the trained model compared with solving the ODEs\n",
    "- incorporate the ANN into a whole particle model?\n",
    "- extend the network to predict temporal data by adding time as an input"
   ]
  },
  {
   "cell_type": "code",
   "execution_count": null,
   "metadata": {
    "collapsed": true
   },
   "outputs": [],
   "source": []
  }
 ],
 "metadata": {
  "kernelspec": {
   "display_name": "Python 2",
   "language": "python",
   "name": "python2"
  },
  "language_info": {
   "codemirror_mode": {
    "name": "ipython",
    "version": 2
   },
   "file_extension": ".py",
   "mimetype": "text/x-python",
   "name": "python",
   "nbconvert_exporter": "python",
   "pygments_lexer": "ipython2",
   "version": "2.7.11"
  }
 },
 "nbformat": 4,
 "nbformat_minor": 0
}
