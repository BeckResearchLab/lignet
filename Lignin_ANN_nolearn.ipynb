{
 "cells": [
  {
   "cell_type": "markdown",
   "metadata": {},
   "source": [
    "I am going to follow the regression example in this tutorial to start figuring out nolearn:  \n",
    "http://danielnouri.org/notes/2014/12/17/using-convolutional-neural-nets-to-detect-facial-keypoints-tutorial/"
   ]
  },
  {
   "cell_type": "code",
   "execution_count": 1,
   "metadata": {
    "collapsed": false
   },
   "outputs": [],
   "source": [
    "# use the nolearn environment (source activate nolearn) to run this notebook\n",
    "# Documentation: https://github.com/dnouri/nolearn/\n",
    "\n",
    "import numpy as np\n",
    "import pandas as pd\n",
    "import matplotlib.pyplot as plt\n",
    "from lasagne.layers import DenseLayer\n",
    "from lasagne.layers import InputLayer\n",
    "from lasagne import nonlinearities\n",
    "from nolearn.lasagne import NeuralNet\n",
    "from sklearn.datasets import make_regression\n",
    "\n",
    "%matplotlib inline"
   ]
  },
  {
   "cell_type": "markdown",
   "metadata": {},
   "source": [
    "#### Eventually, make this into a function that reads the data, cleans it appropriately, shuffles and normalizes it, and splits it into training/test sets"
   ]
  },
  {
   "cell_type": "code",
   "execution_count": 2,
   "metadata": {
    "collapsed": true
   },
   "outputs": [],
   "source": [
    "# Read the training data for the neural network\n",
    "# Input data is 250000x4 and output data is 250000x32\n",
    "x = pd.read_csv('../parameters_250000.txt', sep=' ')\n",
    "y = pd.read_csv('../results.txt', sep=' ', index_col=False)\n",
    "# These functional groups do not exist in my model\n",
    "y = y.drop(['light_aromatic_C-C', 'light_aromatic_methoxyl'], axis=1)"
   ]
  },
  {
   "cell_type": "code",
   "execution_count": 3,
   "metadata": {
    "collapsed": true
   },
   "outputs": [],
   "source": [
    "x = x.values.astype(np.float32)\n",
    "y = y.values.astype(np.float32)"
   ]
  },
  {
   "cell_type": "code",
   "execution_count": 4,
   "metadata": {
    "collapsed": false
   },
   "outputs": [
    {
     "name": "stdout",
     "output_type": "stream",
     "text": [
      "(250000, 4) (250000, 30)\n"
     ]
    }
   ],
   "source": [
    "print x.shape, y.shape"
   ]
  },
  {
   "cell_type": "code",
   "execution_count": 5,
   "metadata": {
    "collapsed": false
   },
   "outputs": [],
   "source": [
    "# Normalize and shuffle\n",
    "mu = np.mean(x, axis=0)\n",
    "sigma = np.std(x, axis=0)\n",
    "x_norm = (x-mu)/sigma\n",
    "\n",
    "combined = np.concatenate((x_norm, y), axis=1)\n",
    "np.random.shuffle(combined)\n",
    "\n",
    "x = combined[:,:4]\n",
    "y = combined[:, 4:]"
   ]
  },
  {
   "cell_type": "markdown",
   "metadata": {
    "collapsed": true
   },
   "source": [
    "## Notes on choosing architechture, hyperparameters, etc.\n",
    "\n",
    "##### Number of Hidden Layers:\n",
    "Problems that require two hidden layers are rarely encountered, however, NNs with two hidden layers can represent functions with any kind of shape.  There is currently no theoretical reason to use neural networks with any more than two hidden layers.  (from https://web.archive.org/web/20140721050413/http://www.heatonresearch.com/node/707)\n",
    "\n",
    "##### Number of neurons in hidden layers:\n",
    "There are many rule-of-thumb methods for determining the correct number of neurons to use in the hidden layers, such as the following:\n",
    "\n",
    "-  The number of hidden neurons should be between the size of the input layer and the size of the output layer. \n",
    "-  The number of hidden neurons should be 2/3 the size of the input layer, plus the size of the output layer. \n",
    "-  The number of hidden neurons should be less than twice the size of the input layer. \n",
    "-  Additional rule of thumb for determining an upperbound on the number of hidden neurons that won't result in overfitting is: \n",
    "\n",
    "$$ N_h = \\frac{N_s}{alpha*(N_i + N_o)} $$\n",
    "\n",
    "&nbsp;&nbsp;&nbsp;&nbsp; $N_i$ = number of input neurons  \n",
    "&nbsp;&nbsp;&nbsp;&nbsp; $N_o$ = number of output neurons  \n",
    "&nbsp;&nbsp;&nbsp;&nbsp; $N_s$ = number of samples in training data set\n",
    "&nbsp;&nbsp;&nbsp;&nbsp; alpha = arbitrary scaling factor (usually between 2-10)\n",
    "\n",
    "##### Choosing the Learning Rate\n",
    "-  First, estimate a threshold value at which the cost on the traning data immediately begins decreasing (do this by changing learning rate by orders of magnitude until you get a value where the cost increases during the first few epochs)"
   ]
  },
  {
   "cell_type": "code",
   "execution_count": null,
   "metadata": {
    "collapsed": false
   },
   "outputs": [
    {
     "name": "stdout",
     "output_type": "stream",
     "text": [
      "# Neural Network with 1150 learnable parameters\n",
      "\n",
      "## Layer information\n",
      "\n",
      "  #    name    size\n",
      "---  ------  ------\n",
      "  0               4\n",
      "                 32\n",
      "                 30\n",
      "\n",
      "  epoch    train loss    valid loss    train/val  dur\n",
      "-------  ------------  ------------  -----------  -----\n",
      "      1       \u001b[36m0.00182\u001b[0m       \u001b[32m0.00120\u001b[0m      1.51145  0.60s\n",
      "      2       \u001b[36m0.00093\u001b[0m       \u001b[32m0.00082\u001b[0m      1.13689  0.52s\n",
      "      3       \u001b[36m0.00072\u001b[0m       \u001b[32m0.00066\u001b[0m      1.09656  0.53s\n",
      "      4       \u001b[36m0.00061\u001b[0m       \u001b[32m0.00059\u001b[0m      1.03100  0.53s\n",
      "      5       \u001b[36m0.00055\u001b[0m       \u001b[32m0.00053\u001b[0m      1.04358  0.53s\n",
      "      6       \u001b[36m0.00048\u001b[0m       \u001b[32m0.00044\u001b[0m      1.07292  0.53s\n",
      "      7       \u001b[36m0.00041\u001b[0m       \u001b[32m0.00040\u001b[0m      1.02491  0.53s\n",
      "      8       \u001b[36m0.00038\u001b[0m       \u001b[32m0.00038\u001b[0m      1.00811  0.53s\n",
      "      9       \u001b[36m0.00036\u001b[0m       \u001b[32m0.00036\u001b[0m      1.00346  0.53s\n",
      "     10       \u001b[36m0.00035\u001b[0m       \u001b[32m0.00035\u001b[0m      1.00120  0.53s\n",
      "     11       \u001b[36m0.00034\u001b[0m       \u001b[32m0.00034\u001b[0m      0.99901  0.53s\n",
      "     12       \u001b[36m0.00032\u001b[0m       \u001b[32m0.00033\u001b[0m      0.99658  0.54s\n",
      "     13       \u001b[36m0.00031\u001b[0m       \u001b[32m0.00032\u001b[0m      0.99431  0.54s\n",
      "     14       \u001b[36m0.00031\u001b[0m       \u001b[32m0.00031\u001b[0m      0.99256  0.55s\n",
      "     15       \u001b[36m0.00030\u001b[0m       \u001b[32m0.00030\u001b[0m      0.99136  0.52s\n",
      "     16       \u001b[36m0.00029\u001b[0m       \u001b[32m0.00030\u001b[0m      0.99065  0.53s\n",
      "     17       \u001b[36m0.00029\u001b[0m       \u001b[32m0.00029\u001b[0m      0.99035  0.53s\n",
      "     18       \u001b[36m0.00028\u001b[0m       \u001b[32m0.00029\u001b[0m      0.99039  0.54s\n",
      "     19       \u001b[36m0.00028\u001b[0m       \u001b[32m0.00028\u001b[0m      0.99072  0.52s\n",
      "     20       \u001b[36m0.00027\u001b[0m       \u001b[32m0.00028\u001b[0m      0.99126  0.53s\n",
      "     21       \u001b[36m0.00027\u001b[0m       \u001b[32m0.00027\u001b[0m      0.99200  0.55s\n",
      "     22       \u001b[36m0.00027\u001b[0m       \u001b[32m0.00027\u001b[0m      0.99293  0.52s\n",
      "     23       \u001b[36m0.00026\u001b[0m       \u001b[32m0.00026\u001b[0m      0.99409  0.52s\n",
      "     24       \u001b[36m0.00026\u001b[0m       \u001b[32m0.00026\u001b[0m      0.99560  0.53s\n",
      "     25       \u001b[36m0.00025\u001b[0m       \u001b[32m0.00025\u001b[0m      0.99761  0.52s\n",
      "     26       \u001b[36m0.00024\u001b[0m       \u001b[32m0.00024\u001b[0m      1.00029  0.52s\n",
      "     27       \u001b[36m0.00024\u001b[0m       \u001b[32m0.00024\u001b[0m      1.00380  0.53s\n",
      "     28       \u001b[36m0.00023\u001b[0m       \u001b[32m0.00023\u001b[0m      1.00811  0.53s\n",
      "     29       \u001b[36m0.00022\u001b[0m       \u001b[32m0.00022\u001b[0m      1.01262  0.54s\n",
      "     30       \u001b[36m0.00021\u001b[0m       \u001b[32m0.00021\u001b[0m      1.01573  0.54s\n",
      "     31       \u001b[36m0.00020\u001b[0m       \u001b[32m0.00020\u001b[0m      1.01566  0.54s\n",
      "     32       \u001b[36m0.00019\u001b[0m       \u001b[32m0.00019\u001b[0m      1.01250  0.52s\n",
      "     33       \u001b[36m0.00018\u001b[0m       \u001b[32m0.00018\u001b[0m      1.00840  0.53s\n",
      "     34       \u001b[36m0.00018\u001b[0m       \u001b[32m0.00018\u001b[0m      1.00519  0.53s\n",
      "     35       \u001b[36m0.00018\u001b[0m       \u001b[32m0.00017\u001b[0m      1.00316  0.56s\n",
      "     36       \u001b[36m0.00017\u001b[0m       \u001b[32m0.00017\u001b[0m      1.00190  0.52s\n",
      "     37       \u001b[36m0.00017\u001b[0m       \u001b[32m0.00017\u001b[0m      1.00100  0.55s\n",
      "     38       \u001b[36m0.00017\u001b[0m       \u001b[32m0.00017\u001b[0m      1.00027  0.54s\n",
      "     39       \u001b[36m0.00017\u001b[0m       \u001b[32m0.00017\u001b[0m      0.99963  0.52s\n",
      "     40       \u001b[36m0.00016\u001b[0m       \u001b[32m0.00016\u001b[0m      0.99905  0.53s\n",
      "     41       \u001b[36m0.00016\u001b[0m       \u001b[32m0.00016\u001b[0m      0.99853  0.52s\n",
      "     42       \u001b[36m0.00016\u001b[0m       \u001b[32m0.00016\u001b[0m      0.99805  0.53s\n",
      "     43       \u001b[36m0.00016\u001b[0m       \u001b[32m0.00016\u001b[0m      0.99761  0.52s\n",
      "     44       \u001b[36m0.00016\u001b[0m       \u001b[32m0.00016\u001b[0m      0.99720  0.53s\n",
      "     45       \u001b[36m0.00016\u001b[0m       \u001b[32m0.00016\u001b[0m      0.99683  0.53s\n",
      "     46       \u001b[36m0.00016\u001b[0m       \u001b[32m0.00016\u001b[0m      0.99648  0.52s\n",
      "     47       \u001b[36m0.00016\u001b[0m       \u001b[32m0.00016\u001b[0m      0.99616  0.52s\n",
      "     48       \u001b[36m0.00015\u001b[0m       \u001b[32m0.00016\u001b[0m      0.99586  0.53s\n",
      "     49       \u001b[36m0.00015\u001b[0m       \u001b[32m0.00015\u001b[0m      0.99559  0.53s\n",
      "     50       \u001b[36m0.00015\u001b[0m       \u001b[32m0.00015\u001b[0m      0.99533  0.52s\n",
      "     51       \u001b[36m0.00015\u001b[0m       \u001b[32m0.00015\u001b[0m      0.99509  0.52s\n",
      "     52       \u001b[36m0.00015\u001b[0m       \u001b[32m0.00015\u001b[0m      0.99487  0.53s\n",
      "     53       \u001b[36m0.00015\u001b[0m       \u001b[32m0.00015\u001b[0m      0.99466  0.52s\n",
      "     54       \u001b[36m0.00015\u001b[0m       \u001b[32m0.00015\u001b[0m      0.99447  0.53s\n",
      "     55       \u001b[36m0.00015\u001b[0m       \u001b[32m0.00015\u001b[0m      0.99429  0.53s\n",
      "     56       \u001b[36m0.00015\u001b[0m       \u001b[32m0.00015\u001b[0m      0.99412  0.53s\n",
      "     57       \u001b[36m0.00015\u001b[0m       \u001b[32m0.00015\u001b[0m      0.99396  0.52s\n",
      "     58       \u001b[36m0.00015\u001b[0m       \u001b[32m0.00015\u001b[0m      0.99381  0.52s\n",
      "     59       \u001b[36m0.00015\u001b[0m       \u001b[32m0.00015\u001b[0m      0.99367  0.52s\n",
      "     60       \u001b[36m0.00015\u001b[0m       \u001b[32m0.00015\u001b[0m      0.99353  0.52s\n",
      "     61       \u001b[36m0.00015\u001b[0m       \u001b[32m0.00015\u001b[0m      0.99340  0.55s\n",
      "     62       \u001b[36m0.00014\u001b[0m       \u001b[32m0.00015\u001b[0m      0.99327  0.53s\n",
      "     63       \u001b[36m0.00014\u001b[0m       \u001b[32m0.00014\u001b[0m      0.99314  0.53s\n",
      "     64       \u001b[36m0.00014\u001b[0m       \u001b[32m0.00014\u001b[0m      0.99301  0.52s\n",
      "     65       \u001b[36m0.00014\u001b[0m       \u001b[32m0.00014\u001b[0m      0.99288  0.53s\n",
      "     66       \u001b[36m0.00014\u001b[0m       \u001b[32m0.00014\u001b[0m      0.99274  0.53s\n",
      "     67       \u001b[36m0.00014\u001b[0m       \u001b[32m0.00014\u001b[0m      0.99261  0.53s\n",
      "     68       \u001b[36m0.00014\u001b[0m       \u001b[32m0.00014\u001b[0m      0.99247  0.53s\n",
      "     69       \u001b[36m0.00014\u001b[0m       \u001b[32m0.00014\u001b[0m      0.99234  0.53s\n",
      "     70       \u001b[36m0.00014\u001b[0m       \u001b[32m0.00014\u001b[0m      0.99220  0.54s\n",
      "     71       \u001b[36m0.00014\u001b[0m       \u001b[32m0.00014\u001b[0m      0.99207  0.54s\n",
      "     72       \u001b[36m0.00014\u001b[0m       \u001b[32m0.00014\u001b[0m      0.99195  0.52s\n",
      "     73       \u001b[36m0.00014\u001b[0m       \u001b[32m0.00014\u001b[0m      0.99183  0.53s\n",
      "     74       \u001b[36m0.00014\u001b[0m       \u001b[32m0.00014\u001b[0m      0.99172  0.54s\n",
      "     75       \u001b[36m0.00014\u001b[0m       \u001b[32m0.00014\u001b[0m      0.99161  0.53s\n",
      "     76       \u001b[36m0.00014\u001b[0m       \u001b[32m0.00014\u001b[0m      0.99151  0.54s\n",
      "     77       \u001b[36m0.00014\u001b[0m       \u001b[32m0.00014\u001b[0m      0.99142  0.52s\n",
      "     78       \u001b[36m0.00014\u001b[0m       \u001b[32m0.00014\u001b[0m      0.99134  0.54s\n",
      "     79       \u001b[36m0.00013\u001b[0m       \u001b[32m0.00014\u001b[0m      0.99127  0.54s\n",
      "     80       \u001b[36m0.00013\u001b[0m       \u001b[32m0.00014\u001b[0m      0.99120  0.52s\n",
      "     81       \u001b[36m0.00013\u001b[0m       \u001b[32m0.00013\u001b[0m      0.99114  0.53s\n",
      "     82       \u001b[36m0.00013\u001b[0m       \u001b[32m0.00013\u001b[0m      0.99108  0.52s\n",
      "     83       \u001b[36m0.00013\u001b[0m       \u001b[32m0.00013\u001b[0m      0.99104  0.52s\n",
      "     84       \u001b[36m0.00013\u001b[0m       \u001b[32m0.00013\u001b[0m      0.99100  0.52s\n",
      "     85       \u001b[36m0.00013\u001b[0m       \u001b[32m0.00013\u001b[0m      0.99096  0.52s\n",
      "     86       \u001b[36m0.00013\u001b[0m       \u001b[32m0.00013\u001b[0m      0.99093  0.53s\n",
      "     87       \u001b[36m0.00013\u001b[0m       \u001b[32m0.00013\u001b[0m      0.99091  0.53s\n",
      "     88       \u001b[36m0.00013\u001b[0m       \u001b[32m0.00013\u001b[0m      0.99089  0.53s\n",
      "     89       \u001b[36m0.00013\u001b[0m       \u001b[32m0.00013\u001b[0m      0.99087  0.56s\n",
      "     90       \u001b[36m0.00013\u001b[0m       \u001b[32m0.00013\u001b[0m      0.99086  0.54s\n",
      "     91       \u001b[36m0.00013\u001b[0m       \u001b[32m0.00013\u001b[0m      0.99086  0.52s\n",
      "     92       \u001b[36m0.00013\u001b[0m       \u001b[32m0.00013\u001b[0m      0.99085  0.52s\n",
      "     93       \u001b[36m0.00013\u001b[0m       \u001b[32m0.00013\u001b[0m      0.99086  0.53s\n",
      "     94       \u001b[36m0.00013\u001b[0m       \u001b[32m0.00013\u001b[0m      0.99086  0.52s\n",
      "     95       \u001b[36m0.00013\u001b[0m       \u001b[32m0.00013\u001b[0m      0.99087  0.52s\n",
      "     96       \u001b[36m0.00013\u001b[0m       \u001b[32m0.00013\u001b[0m      0.99088  0.52s\n",
      "     97       \u001b[36m0.00013\u001b[0m       \u001b[32m0.00013\u001b[0m      0.99089  0.53s\n",
      "     98       \u001b[36m0.00013\u001b[0m       \u001b[32m0.00013\u001b[0m      0.99090  0.52s\n",
      "     99       \u001b[36m0.00013\u001b[0m       \u001b[32m0.00013\u001b[0m      0.99092  0.54s\n"
     ]
    }
   ],
   "source": [
    "l = InputLayer(shape=(None, x.shape[1]))\n",
    "l = DenseLayer(l, num_units=32, nonlinearity=nonlinearities.sigmoid)\n",
    "# l = DenseLayer(l, num_units=10, nonlinearity=nonlinearities.linear)\n",
    "l = DenseLayer(l, num_units=y.shape[1],\n",
    "               nonlinearity=nonlinearities.linear)\n",
    "net = NeuralNet(l, regression=True, update_learning_rate=0.5, verbose=1,\n",
    "                max_epochs=100)\n",
    "net.fit(x, y)\n",
    "print(net.score(x, y))\n"
   ]
  },
  {
   "cell_type": "code",
   "execution_count": 11,
   "metadata": {
    "collapsed": false
   },
   "outputs": [
    {
     "data": {
      "text/plain": [
       "<matplotlib.collections.PathCollection at 0x1050a8e90>"
      ]
     },
     "execution_count": 11,
     "metadata": {},
     "output_type": "execute_result"
    },
    {
     "data": {
      "image/png": "[encoded data removed]",
      "text/plain": [
       "<matplotlib.figure.Figure at 0x110f93b50>"
      ]
     },
     "metadata": {},
     "output_type": "display_data"
    }
   ],
   "source": [
    "y_predictions = net.predict(x)\n",
    "# y_predictions.shape\n",
    "plt.scatter(y_predictions[:1000,:].flatten(), y[:1000,:].flatten())"
   ]
  },
  {
   "cell_type": "code",
   "execution_count": null,
   "metadata": {
    "collapsed": true
   },
   "outputs": [],
   "source": []
  }
 ],
 "metadata": {
  "kernelspec": {
   "display_name": "Python 2",
   "language": "python",
   "name": "python2"
  },
  "language_info": {
   "codemirror_mode": {
    "name": "ipython",
    "version": 2
   },
   "file_extension": ".py",
   "mimetype": "text/x-python",
   "name": "python",
   "nbconvert_exporter": "python",
   "pygments_lexer": "ipython2",
   "version": "2.7.11"
  }
 },
 "nbformat": 4,
 "nbformat_minor": 0
}
