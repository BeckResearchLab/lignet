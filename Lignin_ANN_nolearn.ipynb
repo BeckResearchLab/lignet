{
 "cells": [
  {
   "cell_type": "code",
   "execution_count": 10,
   "metadata": {
    "collapsed": false
   },
   "outputs": [],
   "source": [
    "# use the nolearn environment (source activate nolearn) to run this notebook\n",
    "# Documentation: https://github.com/dnouri/nolearn/\n",
    "\n",
    "import numpy as np\n",
    "import pandas as pd\n",
    "import matplotlib.pyplot as plt\n",
    "from lasagne.layers import DenseLayer\n",
    "from lasagne.layers import InputLayer\n",
    "from nolearn.lasagne import NeuralNet\n",
    "from sklearn.datasets import make_regression\n",
    "\n",
    "%matplotlib inline"
   ]
  },
  {
   "cell_type": "markdown",
   "metadata": {},
   "source": [
    "#### Eventually, make this into a function that reads the data, cleans it appropriately, shuffles and normalizes it, and splits it into training/test sets"
   ]
  },
  {
   "cell_type": "code",
   "execution_count": 6,
   "metadata": {
    "collapsed": true
   },
   "outputs": [],
   "source": [
    "# Read the training data for the neural network\n",
    "# Input data is 250000x4 and output data is 250000x32\n",
    "x = pd.read_csv('../parameters_250000.txt', sep=' ')\n",
    "y = pd.read_csv('../results.txt', sep=' ', index_col=False)\n",
    "# These functional groups do not exist in my model\n",
    "y = y.drop(['light_aromatic_C-C', 'light_aromatic_methoxyl'], axis=1)"
   ]
  },
  {
   "cell_type": "code",
   "execution_count": 15,
   "metadata": {
    "collapsed": true
   },
   "outputs": [],
   "source": [
    "x = x.values.astype(np.float32)\n",
    "y = y.values.astype(np.float32)"
   ]
  },
  {
   "cell_type": "markdown",
   "metadata": {},
   "source": [
    "I am going to follow the regression example in this tutorial to start figuring out nolearn:\n",
    "\n",
    "http://danielnouri.org/notes/2014/12/17/using-convolutional-neural-nets-to-detect-facial-keypoints-tutorial/\n",
    "\n",
    "For regression problems, I want the activation function for the output layer to be a rectified linear unit."
   ]
  },
  {
   "cell_type": "code",
   "execution_count": 16,
   "metadata": {
    "collapsed": false
   },
   "outputs": [
    {
     "name": "stdout",
     "output_type": "stream",
     "text": [
      "(250000, 4) (250000, 30)\n"
     ]
    }
   ],
   "source": [
    "print x.shape, y.shape"
   ]
  },
  {
   "cell_type": "code",
   "execution_count": null,
   "metadata": {
    "collapsed": true
   },
   "outputs": [],
   "source": [
    "NeuralNet()"
   ]
  },
  {
   "cell_type": "code",
   "execution_count": 31,
   "metadata": {
    "collapsed": false
   },
   "outputs": [
    {
     "name": "stdout",
     "output_type": "stream",
     "text": [
      "# Neural Network with 4330 learnable parameters\n",
      "\n",
      "## Layer information\n",
      "\n",
      "  #    name    size\n",
      "---  ------  ------\n",
      "  0               4\n",
      "                 50\n",
      "                 50\n",
      "                 30\n",
      "\n",
      "  epoch    train loss    valid loss    train/val  dur\n",
      "-------  ------------  ------------  -----------  -----\n",
      "      1       \u001b[36m0.00615\u001b[0m       \u001b[32m0.00493\u001b[0m      1.24825  0.99s\n",
      "      2       \u001b[36m0.00493\u001b[0m       \u001b[32m0.00493\u001b[0m      1.00059  0.97s\n",
      "      3       \u001b[36m0.00493\u001b[0m       \u001b[32m0.00493\u001b[0m      1.00058  0.97s\n",
      "      4       \u001b[36m0.00493\u001b[0m       \u001b[32m0.00493\u001b[0m      1.00057  0.98s\n",
      "      5       \u001b[36m0.00493\u001b[0m       \u001b[32m0.00493\u001b[0m      1.00057  1.01s\n",
      "      6       \u001b[36m0.00493\u001b[0m       \u001b[32m0.00493\u001b[0m      1.00056  0.99s\n",
      "      7       \u001b[36m0.00493\u001b[0m       \u001b[32m0.00493\u001b[0m      1.00056  0.98s\n",
      "      8       \u001b[36m0.00493\u001b[0m       \u001b[32m0.00493\u001b[0m      1.00056  0.99s\n",
      "      9       \u001b[36m0.00493\u001b[0m       \u001b[32m0.00493\u001b[0m      1.00056  0.98s\n",
      "     10       \u001b[36m0.00493\u001b[0m       \u001b[32m0.00493\u001b[0m      1.00056  0.98s\n",
      "     11       \u001b[36m0.00493\u001b[0m       \u001b[32m0.00493\u001b[0m      1.00057  1.03s\n",
      "     12       \u001b[36m0.00493\u001b[0m       \u001b[32m0.00493\u001b[0m      1.00047  0.97s\n",
      "     13       0.00493       \u001b[32m0.00493\u001b[0m      1.00057  0.98s\n",
      "     14       \u001b[36m0.00493\u001b[0m       \u001b[32m0.00493\u001b[0m      1.00057  0.97s\n",
      "     15       \u001b[36m0.00493\u001b[0m       \u001b[32m0.00493\u001b[0m      1.00058  0.98s\n",
      "     16       \u001b[36m0.00493\u001b[0m       \u001b[32m0.00492\u001b[0m      1.00060  0.97s\n",
      "     17       \u001b[36m0.00493\u001b[0m       \u001b[32m0.00492\u001b[0m      1.00058  0.97s\n",
      "     18       0.00493       0.00492      1.00049  0.98s\n",
      "     19       0.00493       0.00492      1.00061  0.97s\n",
      "     20       0.00493       0.00493      1.00028  0.97s\n",
      "     21       0.00493       0.00493      1.00058  0.98s\n",
      "     22       0.00493       0.00492      1.00057  0.99s\n",
      "     23       0.00493       0.00492      1.00057  1.00s\n",
      "     24       0.00493       0.00492      1.00056  1.03s\n",
      "     25       0.00493       0.00492      1.00057  1.01s\n",
      "     26       \u001b[36m0.00493\u001b[0m       \u001b[32m0.00492\u001b[0m      1.00058  1.01s\n",
      "     27       \u001b[36m0.00493\u001b[0m       \u001b[32m0.00492\u001b[0m      1.00062  0.97s\n",
      "     28       \u001b[36m0.00493\u001b[0m       \u001b[32m0.00492\u001b[0m      1.00061  0.99s\n",
      "     29       \u001b[36m0.00492\u001b[0m       \u001b[32m0.00492\u001b[0m      1.00057  0.98s\n",
      "     30       0.00492       0.00492      1.00043  0.98s\n",
      "     31       0.00492       0.00492      1.00059  0.99s\n",
      "     32       0.00492       0.00492      1.00059  0.99s\n",
      "     33       \u001b[36m0.00492\u001b[0m       \u001b[32m0.00492\u001b[0m      1.00067  0.99s\n",
      "     34       \u001b[36m0.00492\u001b[0m       0.00492      1.00046  1.02s\n",
      "     35       \u001b[36m0.00492\u001b[0m       \u001b[32m0.00492\u001b[0m      1.00061  1.00s\n",
      "     36       \u001b[36m0.00492\u001b[0m       0.00492      0.99960  1.04s\n",
      "     37       0.00493       0.00492      1.00056  1.00s\n",
      "     38       0.00493       0.00492      1.00057  1.01s\n",
      "     39       0.00493       0.00492      1.00057  1.02s\n",
      "     40       0.00493       0.00492      1.00058  1.01s\n",
      "     41       0.00492       0.00492      1.00059  1.03s\n",
      "     42       0.00492       0.00492      1.00064  1.00s\n",
      "     43       0.00492       \u001b[32m0.00492\u001b[0m      1.00146  1.04s\n",
      "     44       0.00493       0.00492      1.00060  1.03s\n",
      "     45       0.00492       0.00492      1.00060  1.03s\n",
      "     46       0.00492       0.00492      1.00064  1.04s\n",
      "     47       0.00492       0.00492      1.00038  1.04s\n",
      "     48       0.00492       0.00492      1.00062  1.03s\n",
      "     49       0.00492       0.00492      1.00065  1.01s\n",
      "     50       0.00492       0.00492      0.99996  1.04s\n",
      "     51       0.00493       0.00492      1.00062  1.02s\n",
      "     52       0.00492       0.00492      1.00064  1.04s\n",
      "     53       0.00492       0.00492      1.00066  1.03s\n",
      "     54       \u001b[36m0.00492\u001b[0m       0.00492      1.00066  1.00s\n",
      "     55       0.00492       0.00492      1.00035  1.03s\n",
      "     56       \u001b[36m0.00492\u001b[0m       0.00492      1.00079  1.01s\n",
      "     57       0.00492       0.00492      0.99958  1.00s\n",
      "     58       0.00493       0.00492      1.00068  1.01s\n",
      "     59       0.00492       0.00492      1.00103  1.03s\n",
      "     60       0.00493       0.00493      1.00052  1.12s\n",
      "     61       0.00493       0.00492      1.00059  1.02s\n",
      "     62       0.00493       0.00492      1.00059  1.01s\n",
      "     63       0.00493       0.00492      1.00059  1.01s\n",
      "     64       0.00493       0.00492      1.00059  1.03s\n",
      "     65       0.00493       0.00492      1.00058  1.04s\n",
      "     66       0.00493       0.00492      1.00061  1.04s\n",
      "     67       0.00493       0.00492      1.00059  1.03s\n",
      "     68       0.00492       0.00492      1.00060  1.03s\n",
      "     69       0.00492       0.00492      1.00065  1.03s\n",
      "     70       0.00492       0.00492      1.00085  1.03s\n",
      "     71       0.00492       0.00492      1.00049  1.04s\n",
      "     72       0.00493       0.00492      1.00060  1.06s\n",
      "     73       0.00492       0.00492      1.00059  1.00s\n",
      "     74       0.00492       0.00492      1.00060  1.02s\n",
      "     75       0.00492       0.00492      1.00059  1.03s\n",
      "     76       0.00492       0.00492      1.00059  1.00s\n",
      "     77       0.00492       0.00492      1.00058  1.02s\n",
      "     78       0.00492       0.00492      1.00061  1.01s\n",
      "     79       0.00492       0.00492      1.00068  1.01s\n",
      "     80       \u001b[36m0.00492\u001b[0m       0.00492      1.00067  1.04s\n",
      "     81       \u001b[36m0.00492\u001b[0m       \u001b[32m0.00491\u001b[0m      1.00063  1.01s\n",
      "     82       \u001b[36m0.00492\u001b[0m       \u001b[32m0.00491\u001b[0m      1.00086  1.05s\n",
      "     83       0.00492       0.00492      1.00035  1.04s\n",
      "     84       0.00492       0.00492      1.00065  1.02s\n",
      "     85       \u001b[36m0.00492\u001b[0m       \u001b[32m0.00491\u001b[0m      1.00097  1.00s\n",
      "     86       \u001b[36m0.00492\u001b[0m       \u001b[32m0.00491\u001b[0m      1.00078  0.99s\n",
      "     87       0.00492       0.00492      0.99980  1.00s\n",
      "     88       0.00492       0.00492      1.00063  1.00s\n",
      "     89       0.00492       0.00492      1.00064  1.04s\n",
      "     90       0.00492       0.00492      1.00069  1.01s\n",
      "     91       0.00492       0.00492      1.00003  1.01s\n",
      "     92       0.00492       0.00492      1.00056  1.03s\n",
      "     93       0.00492       0.00492      1.00056  1.03s\n",
      "     94       0.00492       0.00492      1.00056  1.03s\n",
      "     95       0.00492       0.00492      1.00057  1.00s\n",
      "     96       0.00492       0.00492      1.00059  1.00s\n",
      "     97       0.00492       0.00492      1.00062  1.01s\n",
      "     98       0.00492       0.00491      1.00104  1.03s\n",
      "     99       0.00492       0.00491      1.00070  1.01s\n",
      "    100       0.00492       0.00492      1.00060  0.99s\n",
      "0.00491933750735\n"
     ]
    }
   ],
   "source": [
    "l = InputLayer(shape=(None, x.shape[1]))\n",
    "l = DenseLayer(l, num_units=50, nonlinearity=lasagne.nonlinearities.sigmoid)\n",
    "l = DenseLayer(l, num_units=50, nonlinearity=lasagne.nonlinearities.softmax)\n",
    "l = DenseLayer(l, num_units=y.shape[1],\n",
    "               nonlinearity=lasagne.nonlinearities.linear)\n",
    "net = NeuralNet(l, regression=True, update_learning_rate=0.1, verbose=1)\n",
    "net.fit(x, y)\n",
    "print(net.score(x, y))\n"
   ]
  },
  {
   "cell_type": "code",
   "execution_count": 32,
   "metadata": {
    "collapsed": false
   },
   "outputs": [
    {
     "data": {
      "text/plain": [
       "(250000, 30)"
      ]
     },
     "execution_count": 32,
     "metadata": {},
     "output_type": "execute_result"
    }
   ],
   "source": [
    "y_predictions = net.predict(x)\n",
    "y_predictions.shape"
   ]
  },
  {
   "cell_type": "code",
   "execution_count": 33,
   "metadata": {
    "collapsed": false
   },
   "outputs": [
    {
     "data": {
      "text/plain": [
       "<matplotlib.collections.PathCollection at 0x10f887c90>"
      ]
     },
     "execution_count": 33,
     "metadata": {},
     "output_type": "execute_result"
    },
    {
     "data": {
      "image/png": "[encoded data removed]",
      "text/plain": [
       "<matplotlib.figure.Figure at 0x10fea8b50>"
      ]
     },
     "metadata": {},
     "output_type": "display_data"
    }
   ],
   "source": [
    "plt.scatter(y_predictions[:1000,:].flatten(), y[:1000,:].flatten())"
   ]
  },
  {
   "cell_type": "code",
   "execution_count": 30,
   "metadata": {
    "collapsed": false
   },
   "outputs": [
    {
     "data": {
      "text/plain": [
       "array([[ 0.33784029,  0.13375935,  0.17646965, ...,  0.1082575 ,\n",
       "         0.2669545 ,  0.30155233],\n",
       "       [ 0.33784029,  0.13375935,  0.17646965, ...,  0.1082575 ,\n",
       "         0.2669545 ,  0.30155233],\n",
       "       [ 0.33784029,  0.13375935,  0.17646965, ...,  0.1082575 ,\n",
       "         0.2669545 ,  0.30155233],\n",
       "       ..., \n",
       "       [ 0.33784029,  0.13375935,  0.17646965, ...,  0.1082575 ,\n",
       "         0.2669545 ,  0.30155233],\n",
       "       [ 0.33784029,  0.13375935,  0.17646965, ...,  0.1082575 ,\n",
       "         0.2669545 ,  0.30155233],\n",
       "       [ 0.33784029,  0.13375935,  0.17646965, ...,  0.1082575 ,\n",
       "         0.2669545 ,  0.30155233]])"
      ]
     },
     "execution_count": 30,
     "metadata": {},
     "output_type": "execute_result"
    }
   ],
   "source": [
    "y_predictions"
   ]
  },
  {
   "cell_type": "code",
   "execution_count": null,
   "metadata": {
    "collapsed": true
   },
   "outputs": [],
   "source": []
  }
 ],
 "metadata": {
  "kernelspec": {
   "display_name": "Python 2",
   "language": "python",
   "name": "python2"
  },
  "language_info": {
   "codemirror_mode": {
    "name": "ipython",
    "version": 2
   },
   "file_extension": ".py",
   "mimetype": "text/x-python",
   "name": "python",
   "nbconvert_exporter": "python",
   "pygments_lexer": "ipython2",
   "version": "2.7.11"
  }
 },
 "nbformat": 4,
 "nbformat_minor": 0
}
