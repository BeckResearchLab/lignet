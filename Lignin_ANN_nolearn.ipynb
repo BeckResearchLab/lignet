{
 "cells": [
  {
   "cell_type": "markdown",
   "metadata": {},
   "source": [
    "I am going to follow the regression example in this tutorial to start figuring out nolearn:  \n",
    "http://danielnouri.org/notes/2014/12/17/using-convolutional-neural-nets-to-detect-facial-keypoints-tutorial/\n",
    "\n",
    "use the nolearn environment (source activate nolearn) to run this notebook  \n",
    "Documentation: https://github.com/dnouri/nolearn/"
   ]
  },
  {
   "cell_type": "code",
   "execution_count": 24,
   "metadata": {
    "collapsed": false
   },
   "outputs": [],
   "source": [
    "import numpy as np\n",
    "import pandas as pd\n",
    "import matplotlib.pyplot as plt\n",
    "import lasagne\n",
    "from lasagne.layers import DenseLayer\n",
    "from lasagne.layers import InputLayer\n",
    "from lasagne import nonlinearities\n",
    "from nolearn.lasagne import NeuralNet\n",
    "from sklearn.datasets import make_regression\n",
    "\n",
    "%matplotlib inline"
   ]
  },
  {
   "cell_type": "markdown",
   "metadata": {},
   "source": [
    "#### Eventually, make this into a function that reads the data, cleans it appropriately, shuffles and normalizes it, and splits it into training/test sets"
   ]
  },
  {
   "cell_type": "code",
   "execution_count": 2,
   "metadata": {
    "collapsed": true
   },
   "outputs": [],
   "source": [
    "# Read the training data for the neural network\n",
    "# Input data is 250000x4 and output data is 250000x32\n",
    "x = pd.read_csv('../parameters_250000.txt', sep=' ')\n",
    "y = pd.read_csv('../results.txt', sep=' ', index_col=False)\n",
    "# These functional groups do not exist in my model\n",
    "y = y.drop(['light_aromatic_C-C', 'light_aromatic_methoxyl'], axis=1)"
   ]
  },
  {
   "cell_type": "code",
   "execution_count": 3,
   "metadata": {
    "collapsed": true
   },
   "outputs": [],
   "source": [
    "x = x.values.astype(np.float32)\n",
    "y = y.values.astype(np.float32)"
   ]
  },
  {
   "cell_type": "code",
   "execution_count": 4,
   "metadata": {
    "collapsed": false
   },
   "outputs": [
    {
     "name": "stdout",
     "output_type": "stream",
     "text": [
      "(250000, 4) (250000, 30)\n"
     ]
    }
   ],
   "source": [
    "print x.shape, y.shape"
   ]
  },
  {
   "cell_type": "code",
   "execution_count": 5,
   "metadata": {
    "collapsed": false
   },
   "outputs": [],
   "source": [
    "# Standardize and shuffle\n",
    "mu = np.mean(x, axis=0)\n",
    "sigma = np.std(x, axis=0)\n",
    "x_norm = (x-mu)/sigma\n",
    "\n",
    "combined = np.concatenate((x_norm, y), axis=1)\n",
    "np.random.shuffle(combined)\n",
    "\n",
    "x = combined[:,:4]\n",
    "y = combined[:, 4:]"
   ]
  },
  {
   "cell_type": "markdown",
   "metadata": {
    "collapsed": true
   },
   "source": [
    "## Notes on choosing architechture, hyperparameters, etc.\n",
    "\n",
    "##### Number of Hidden Layers:\n",
    "Problems that require two hidden layers are rarely encountered, however, NNs with two hidden layers can represent functions with any kind of shape.  There is currently no theoretical reason to use neural networks with any more than two hidden layers.  (from https://web.archive.org/web/20140721050413/http://www.heatonresearch.com/node/707)\n",
    "\n",
    "##### Number of neurons in hidden layers:\n",
    "There are many rule-of-thumb methods for determining the correct number of neurons to use in the hidden layers, such as the following:\n",
    "\n",
    "-  The number of hidden neurons should be between the size of the input layer and the size of the output layer. \n",
    "-  The number of hidden neurons should be 2/3 the size of the input layer, plus the size of the output layer. \n",
    "-  The number of hidden neurons should be less than twice the size of the input layer. \n",
    "-  Additional rule of thumb for determining an upperbound on the number of hidden neurons that won't result in overfitting is: \n",
    "\n",
    "$$ N_h = \\frac{N_s}{alpha*(N_i + N_o)} $$\n",
    "\n",
    "&nbsp;&nbsp;&nbsp;&nbsp; $N_i$ = number of input neurons  \n",
    "&nbsp;&nbsp;&nbsp;&nbsp; $N_o$ = number of output neurons  \n",
    "&nbsp;&nbsp;&nbsp;&nbsp; $N_s$ = number of samples in training data set\n",
    "&nbsp;&nbsp;&nbsp;&nbsp; alpha = arbitrary scaling factor (usually between 2-10)\n",
    "\n",
    "##### Choosing the Learning Rate\n",
    "-  First, estimate a threshold value at which the cost on the traning data immediately begins decreasing (do this by changing learning rate by orders of magnitude until you get a value where the cost increases during the first few epochs)\n",
    "-  This threshold value changes with network architechture and whether the training data is normalized.  Small changes below the threshold value appear to have significant impacts on the results...\n",
    "-  I need to do more digging into nolearn to determine if I can specify a learning rate schedule, or otherwise adjust the learning rate during training  \n",
    "--> turns out you can do this fairly easily: see Daniel Nouri's tutorial linked above.\n",
    "\n",
    "##### Regularization Parameter\n",
    "Am I able to add regularization with nolearn?  If so, first figure out learning rate without regularization, then add it.  Start with lambda = 1.0, then increase or decrease by factors of 10 to improve performance on the validation data.  After finding best lambda, return and re-optimize the learning rate again.\n",
    "https://groups.google.com/forum/#!topic/lasagne-users/B3w6_EU9qlI  \n",
    "https://www.kaggle.com/c/otto-group-product-classification-challenge/forums/t/14139/does-anyone-know-how-to-make-l1-and-l2-regularization-work-for-lasagne  \n",
    "\n",
    "Should I just add dropout instead?  Both dropout and regularization only make sense if we have a network that is overfitting, so right now it doesn't look like I need it until I can make my network overfit..."
   ]
  },
  {
   "cell_type": "code",
   "execution_count": null,
   "metadata": {
    "collapsed": true
   },
   "outputs": [],
   "source": [
    "lasagne.objectives.squared_error"
   ]
  },
  {
   "cell_type": "code",
   "execution_count": 51,
   "metadata": {
    "collapsed": false
   },
   "outputs": [
    {
     "name": "stdout",
     "output_type": "stream",
     "text": [
      "# Neural Network with 660 learnable parameters\n",
      "\n",
      "## Layer information\n",
      "\n",
      "  #    name    size\n",
      "---  ------  ------\n",
      "  0               4\n",
      "                 18\n",
      "                 30\n",
      "\n",
      "  epoch    train loss    valid loss    train/val  dur\n",
      "-------  ------------  ------------  -----------  -----\n",
      "      1       \u001b[36m0.00178\u001b[0m       \u001b[32m0.00107\u001b[0m      1.66442  0.46s\n",
      "      2       \u001b[36m0.00088\u001b[0m       \u001b[32m0.00078\u001b[0m      1.11972  0.46s\n",
      "      3       \u001b[36m0.00070\u001b[0m       \u001b[32m0.00065\u001b[0m      1.07629  0.46s\n",
      "      4       \u001b[36m0.00060\u001b[0m       \u001b[32m0.00058\u001b[0m      1.03891  0.47s\n",
      "      5       \u001b[36m0.00055\u001b[0m       \u001b[32m0.00054\u001b[0m      1.02459  0.47s\n",
      "      6       \u001b[36m0.00051\u001b[0m       \u001b[32m0.00050\u001b[0m      1.02000  0.46s\n",
      "      7       \u001b[36m0.00048\u001b[0m       \u001b[32m0.00047\u001b[0m      1.01729  0.46s\n",
      "      8       \u001b[36m0.00045\u001b[0m       \u001b[32m0.00044\u001b[0m      1.01489  0.45s\n",
      "      9       \u001b[36m0.00042\u001b[0m       \u001b[32m0.00042\u001b[0m      1.01295  0.46s\n",
      "     10       \u001b[36m0.00040\u001b[0m       \u001b[32m0.00039\u001b[0m      1.01128  0.45s\n",
      "     11       \u001b[36m0.00038\u001b[0m       \u001b[32m0.00037\u001b[0m      1.00906  0.45s\n",
      "     12       \u001b[36m0.00036\u001b[0m       \u001b[32m0.00036\u001b[0m      1.00613  0.46s\n",
      "     13       \u001b[36m0.00035\u001b[0m       \u001b[32m0.00034\u001b[0m      1.00340  0.46s\n",
      "     14       \u001b[36m0.00033\u001b[0m       \u001b[32m0.00033\u001b[0m      1.00129  0.45s\n",
      "     15       \u001b[36m0.00032\u001b[0m       \u001b[32m0.00032\u001b[0m      0.99955  0.45s\n",
      "     16       \u001b[36m0.00032\u001b[0m       \u001b[32m0.00032\u001b[0m      0.99801  0.45s\n",
      "     17       \u001b[36m0.00031\u001b[0m       \u001b[32m0.00031\u001b[0m      0.99666  0.45s\n",
      "     18       \u001b[36m0.00030\u001b[0m       \u001b[32m0.00030\u001b[0m      0.99554  0.44s\n",
      "     19       \u001b[36m0.00030\u001b[0m       \u001b[32m0.00030\u001b[0m      0.99468  0.45s\n",
      "     20       \u001b[36m0.00029\u001b[0m       \u001b[32m0.00029\u001b[0m      0.99409  0.45s\n",
      "     21       \u001b[36m0.00029\u001b[0m       \u001b[32m0.00029\u001b[0m      0.99371  0.45s\n",
      "     22       \u001b[36m0.00028\u001b[0m       \u001b[32m0.00028\u001b[0m      0.99351  0.45s\n",
      "     23       \u001b[36m0.00028\u001b[0m       \u001b[32m0.00028\u001b[0m      0.99344  0.45s\n",
      "     24       \u001b[36m0.00028\u001b[0m       \u001b[32m0.00028\u001b[0m      0.99345  0.46s\n",
      "     25       \u001b[36m0.00027\u001b[0m       \u001b[32m0.00027\u001b[0m      0.99352  0.57s\n",
      "     26       \u001b[36m0.00027\u001b[0m       \u001b[32m0.00027\u001b[0m      0.99362  0.46s\n",
      "     27       \u001b[36m0.00026\u001b[0m       \u001b[32m0.00027\u001b[0m      0.99374  0.46s\n",
      "     28       \u001b[36m0.00026\u001b[0m       \u001b[32m0.00026\u001b[0m      0.99388  0.45s\n",
      "     29       \u001b[36m0.00026\u001b[0m       \u001b[32m0.00026\u001b[0m      0.99405  0.46s\n",
      "     30       \u001b[36m0.00025\u001b[0m       \u001b[32m0.00026\u001b[0m      0.99424  0.46s\n",
      "     31       \u001b[36m0.00025\u001b[0m       \u001b[32m0.00025\u001b[0m      0.99448  0.46s\n",
      "     32       \u001b[36m0.00025\u001b[0m       \u001b[32m0.00025\u001b[0m      0.99477  0.46s\n",
      "     33       \u001b[36m0.00024\u001b[0m       \u001b[32m0.00024\u001b[0m      0.99514  0.46s\n",
      "     34       \u001b[36m0.00024\u001b[0m       \u001b[32m0.00024\u001b[0m      0.99559  0.49s\n",
      "     35       \u001b[36m0.00024\u001b[0m       \u001b[32m0.00024\u001b[0m      0.99613  0.45s\n",
      "     36       \u001b[36m0.00023\u001b[0m       \u001b[32m0.00023\u001b[0m      0.99675  0.45s\n",
      "     37       \u001b[36m0.00023\u001b[0m       \u001b[32m0.00023\u001b[0m      0.99745  0.45s\n",
      "     38       \u001b[36m0.00023\u001b[0m       \u001b[32m0.00023\u001b[0m      0.99818  0.46s\n",
      "     39       \u001b[36m0.00022\u001b[0m       \u001b[32m0.00022\u001b[0m      0.99890  0.46s\n",
      "     40       \u001b[36m0.00022\u001b[0m       \u001b[32m0.00022\u001b[0m      0.99954  0.44s\n",
      "     41       \u001b[36m0.00021\u001b[0m       \u001b[32m0.00021\u001b[0m      1.00005  0.44s\n",
      "     42       \u001b[36m0.00021\u001b[0m       \u001b[32m0.00021\u001b[0m      1.00044  0.44s\n",
      "     43       \u001b[36m0.00020\u001b[0m       \u001b[32m0.00020\u001b[0m      1.00070  0.45s\n",
      "     44       \u001b[36m0.00020\u001b[0m       \u001b[32m0.00020\u001b[0m      1.00082  0.45s\n",
      "     45       \u001b[36m0.00020\u001b[0m       \u001b[32m0.00020\u001b[0m      1.00077  0.44s\n",
      "     46       \u001b[36m0.00019\u001b[0m       \u001b[32m0.00019\u001b[0m      1.00053  0.44s\n",
      "     47       \u001b[36m0.00019\u001b[0m       \u001b[32m0.00019\u001b[0m      1.00013  0.44s\n",
      "     48       \u001b[36m0.00019\u001b[0m       \u001b[32m0.00019\u001b[0m      0.99963  0.45s\n",
      "     49       \u001b[36m0.00018\u001b[0m       \u001b[32m0.00018\u001b[0m      0.99909  0.45s\n",
      "     50       \u001b[36m0.00018\u001b[0m       \u001b[32m0.00018\u001b[0m      0.99857  0.45s\n",
      "     51       \u001b[36m0.00018\u001b[0m       \u001b[32m0.00018\u001b[0m      0.99809  0.45s\n",
      "     52       \u001b[36m0.00018\u001b[0m       \u001b[32m0.00018\u001b[0m      0.99765  0.46s\n",
      "     53       \u001b[36m0.00017\u001b[0m       \u001b[32m0.00017\u001b[0m      0.99727  0.45s\n",
      "     54       \u001b[36m0.00017\u001b[0m       \u001b[32m0.00017\u001b[0m      0.99694  0.46s\n",
      "     55       \u001b[36m0.00017\u001b[0m       \u001b[32m0.00017\u001b[0m      0.99665  0.45s\n",
      "     56       \u001b[36m0.00017\u001b[0m       \u001b[32m0.00017\u001b[0m      0.99640  0.45s\n",
      "     57       \u001b[36m0.00017\u001b[0m       \u001b[32m0.00017\u001b[0m      0.99620  0.45s\n",
      "     58       \u001b[36m0.00017\u001b[0m       \u001b[32m0.00017\u001b[0m      0.99604  0.44s\n",
      "     59       \u001b[36m0.00017\u001b[0m       \u001b[32m0.00017\u001b[0m      0.99592  0.44s\n",
      "     60       \u001b[36m0.00017\u001b[0m       \u001b[32m0.00017\u001b[0m      0.99583  0.45s\n",
      "     61       \u001b[36m0.00016\u001b[0m       \u001b[32m0.00016\u001b[0m      0.99578  0.45s\n",
      "     62       \u001b[36m0.00016\u001b[0m       \u001b[32m0.00016\u001b[0m      0.99575  0.44s\n",
      "     63       \u001b[36m0.00016\u001b[0m       \u001b[32m0.00016\u001b[0m      0.99574  0.44s\n",
      "     64       \u001b[36m0.00016\u001b[0m       \u001b[32m0.00016\u001b[0m      0.99575  0.45s\n",
      "     65       \u001b[36m0.00016\u001b[0m       \u001b[32m0.00016\u001b[0m      0.99577  0.45s\n",
      "     66       \u001b[36m0.00016\u001b[0m       \u001b[32m0.00016\u001b[0m      0.99580  0.45s\n",
      "     67       \u001b[36m0.00016\u001b[0m       \u001b[32m0.00016\u001b[0m      0.99583  0.44s\n",
      "     68       \u001b[36m0.00016\u001b[0m       \u001b[32m0.00016\u001b[0m      0.99587  0.45s\n",
      "     69       \u001b[36m0.00016\u001b[0m       \u001b[32m0.00016\u001b[0m      0.99591  0.46s\n",
      "     70       \u001b[36m0.00016\u001b[0m       \u001b[32m0.00016\u001b[0m      0.99595  0.45s\n",
      "     71       \u001b[36m0.00016\u001b[0m       \u001b[32m0.00016\u001b[0m      0.99599  0.45s\n",
      "     72       \u001b[36m0.00016\u001b[0m       \u001b[32m0.00016\u001b[0m      0.99602  0.44s\n",
      "     73       \u001b[36m0.00016\u001b[0m       \u001b[32m0.00016\u001b[0m      0.99606  0.44s\n",
      "     74       \u001b[36m0.00016\u001b[0m       \u001b[32m0.00016\u001b[0m      0.99609  0.46s\n",
      "     75       \u001b[36m0.00016\u001b[0m       \u001b[32m0.00016\u001b[0m      0.99612  0.52s\n",
      "     76       \u001b[36m0.00015\u001b[0m       \u001b[32m0.00016\u001b[0m      0.99615  0.46s\n",
      "     77       \u001b[36m0.00015\u001b[0m       \u001b[32m0.00015\u001b[0m      0.99617  0.49s\n",
      "     78       \u001b[36m0.00015\u001b[0m       \u001b[32m0.00015\u001b[0m      0.99619  0.45s\n",
      "     79       \u001b[36m0.00015\u001b[0m       \u001b[32m0.00015\u001b[0m      0.99621  0.45s\n",
      "     80       \u001b[36m0.00015\u001b[0m       \u001b[32m0.00015\u001b[0m      0.99622  0.45s\n",
      "     81       \u001b[36m0.00015\u001b[0m       \u001b[32m0.00015\u001b[0m      0.99623  0.46s\n",
      "     82       \u001b[36m0.00015\u001b[0m       \u001b[32m0.00015\u001b[0m      0.99623  0.50s\n",
      "     83       \u001b[36m0.00015\u001b[0m       \u001b[32m0.00015\u001b[0m      0.99623  0.46s\n",
      "     84       \u001b[36m0.00015\u001b[0m       \u001b[32m0.00015\u001b[0m      0.99623  0.45s\n",
      "     85       \u001b[36m0.00015\u001b[0m       \u001b[32m0.00015\u001b[0m      0.99622  0.45s\n",
      "     86       \u001b[36m0.00015\u001b[0m       \u001b[32m0.00015\u001b[0m      0.99621  0.45s\n",
      "     87       \u001b[36m0.00015\u001b[0m       \u001b[32m0.00015\u001b[0m      0.99620  0.48s\n",
      "     88       \u001b[36m0.00015\u001b[0m       \u001b[32m0.00015\u001b[0m      0.99618  0.50s\n",
      "     89       \u001b[36m0.00015\u001b[0m       \u001b[32m0.00015\u001b[0m      0.99616  0.45s\n",
      "     90       \u001b[36m0.00015\u001b[0m       \u001b[32m0.00015\u001b[0m      0.99614  0.44s\n",
      "     91       \u001b[36m0.00015\u001b[0m       \u001b[32m0.00015\u001b[0m      0.99611  0.44s\n",
      "     92       \u001b[36m0.00015\u001b[0m       \u001b[32m0.00015\u001b[0m      0.99609  0.46s\n",
      "     93       \u001b[36m0.00015\u001b[0m       \u001b[32m0.00015\u001b[0m      0.99606  0.47s\n",
      "     94       \u001b[36m0.00015\u001b[0m       \u001b[32m0.00015\u001b[0m      0.99603  0.45s\n",
      "     95       \u001b[36m0.00015\u001b[0m       \u001b[32m0.00015\u001b[0m      0.99599  0.46s\n",
      "     96       \u001b[36m0.00015\u001b[0m       \u001b[32m0.00015\u001b[0m      0.99596  0.46s\n",
      "     97       \u001b[36m0.00015\u001b[0m       \u001b[32m0.00015\u001b[0m      0.99592  0.46s\n",
      "     98       \u001b[36m0.00015\u001b[0m       \u001b[32m0.00015\u001b[0m      0.99589  0.45s\n",
      "     99       \u001b[36m0.00015\u001b[0m       \u001b[32m0.00015\u001b[0m      0.99585  0.44s\n",
      "    100       \u001b[36m0.00015\u001b[0m       \u001b[32m0.00015\u001b[0m      0.99581  0.45s\n",
      "0.000145025477805\n"
     ]
    }
   ],
   "source": [
    "l = InputLayer(shape=(None, x.shape[1]))\n",
    "l = DenseLayer(l, num_units=18, nonlinearity=nonlinearities.sigmoid)\n",
    "l = DenseLayer(l, num_units=y.shape[1],\n",
    "               nonlinearity=nonlinearities.linear)\n",
    "# NeuralNet automatically splits the data provided in x into a training\n",
    "# and a validation set, using 20% of the samples for validation. \n",
    "# You can adjust this ratio by overriding the eval_size=0.2 parameter.\n",
    "net = NeuralNet(l, regression=True, update_learning_rate=0.5, verbose=1,\n",
    "                max_epochs=100)\n",
    "                #, update_momentum=0.9, update=lasagne.updates.sgd)\n",
    "net.fit(x, y)\n",
    "print(net.score(x, y))\n",
    "\n",
    "# The table that is printed shows the current loss (MSE) on the training and\n",
    "# validation sets."
   ]
  },
  {
   "cell_type": "code",
   "execution_count": 55,
   "metadata": {
    "collapsed": false
   },
   "outputs": [
    {
     "data": {
      "image/png": "[encoded data removed]",
      "text/plain": [
       "<matplotlib.figure.Figure at 0x12e062810>"
      ]
     },
     "metadata": {},
     "output_type": "display_data"
    }
   ],
   "source": [
    "train_loss = np.array([i[\"train_loss\"] for i in net.train_history_])\n",
    "valid_loss = np.array([i[\"valid_loss\"] for i in net.train_history_])\n",
    "\n",
    "plt.figure(1)\n",
    "plt.plot(train_loss, label='train')\n",
    "plt.plot(valid_loss, label='validation')\n",
    "plt.legend(loc=0)\n",
    "plt.xlabel('Epoch')\n",
    "plt.ylabel('Loss (MSE)')\n",
    "plt.yscale('log')\n"
   ]
  },
  {
   "cell_type": "code",
   "execution_count": 53,
   "metadata": {
    "collapsed": false
   },
   "outputs": [
    {
     "data": {
      "text/plain": [
       "<matplotlib.text.Text at 0x113b28950>"
      ]
     },
     "execution_count": 53,
     "metadata": {},
     "output_type": "execute_result"
    },
    {
     "data": {
      "image/png": "[encoded data removed]",
      "text/plain": [
       "<matplotlib.figure.Figure at 0x1110bf790>"
      ]
     },
     "metadata": {},
     "output_type": "display_data"
    }
   ],
   "source": [
    "y_predictions = net.predict(x)\n",
    "# y_predictions.shape\n",
    "plt.scatter(y_predictions[:1000,:].flatten(), y[:1000,:].flatten())\n",
    "plt.plot([np.min(y),np.max(y)],[np.min(y),np.max(y)])\n",
    "plt.xlabel('Predicted Value')\n",
    "plt.ylabel('Actual Value')"
   ]
  },
  {
   "cell_type": "markdown",
   "metadata": {
    "collapsed": true
   },
   "source": [
    "#### Next steps:\n",
    "\n",
    "- Separate a test set from the training data (x and y above)\n",
    "- What objective function is being used by nolearn?  Default is nesterov momentum\n",
    "- Default loss function for regression is MSE\n",
    "- Optimize\n",
    "- pickle the trained model when it is done"
   ]
  },
  {
   "cell_type": "code",
   "execution_count": null,
   "metadata": {
    "collapsed": true
   },
   "outputs": [],
   "source": []
  }
 ],
 "metadata": {
  "kernelspec": {
   "display_name": "Python 2",
   "language": "python",
   "name": "python2"
  },
  "language_info": {
   "codemirror_mode": {
    "name": "ipython",
    "version": 2
   },
   "file_extension": ".py",
   "mimetype": "text/x-python",
   "name": "python",
   "nbconvert_exporter": "python",
   "pygments_lexer": "ipython2",
   "version": "2.7.11"
  }
 },
 "nbformat": 4,
 "nbformat_minor": 0
}
